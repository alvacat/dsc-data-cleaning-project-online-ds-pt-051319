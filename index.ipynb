{
 "cells": [
  {
   "cell_type": "markdown",
   "metadata": {},
   "source": [
    "# Project - Data Cleaning\n",
    "\n",
    "## Introduction\n",
    "In this lab, we'll make use of everything we've learned about pandas, data cleaning, and Exploratory Data Analysis. In order to complete this lab, you'll have to make import, clean, combine, reshape, and visualize data to answer questions provided, as well as your own questions!\n",
    "\n",
    "## Objectives\n",
    "You will be able to:\n",
    "* Show mastery of the content covered in this section\n",
    "\n",
    "## The Dataset\n",
    "In this lab, we'll work with the comprehensive [Super Heroes Dataset](https://www.kaggle.com/claudiodavi/superhero-set/data), which can be found on Kaggle!\n",
    "\n",
    "## Goals\n",
    "* Use all available pandas knowledge to clean the dataset and deal with null values\n",
    "* Use Queries and aggregations to group the data into interesting subsets as needed\n",
    "* Use descriptive statistics and data visualization to find answers to questions we may have about the data. \n",
    "\n",
    "## Getting Started\n",
    "\n",
    "In the cell below:\n",
    "\n",
    "* Import and alias pandas as `pd`\n",
    "* Import and alias numpy as `np`\n",
    "* Import and alias seaborn as `sns`\n",
    "* Import and alias matplotlib.pyplot as `plt`\n",
    "* Set matplotlib visualizations to display inline in the notebook"
   ]
  },
  {
   "cell_type": "code",
   "execution_count": 1,
   "metadata": {},
   "outputs": [],
   "source": [
    "import pandas as pd\n",
    "import numpy as np\n",
    "import seaborn as sns\n",
    "import matplotlib.pyplot as plt\n",
    "%matplotlib inline"
   ]
  },
  {
   "cell_type": "markdown",
   "metadata": {},
   "source": [
    "For this lab, our dataset is split among two different sources--`heroes_information.csv` and `super_hero_powers.csv`.\n",
    "\n",
    "Use pandas to read in each file and store them in DataFrames in the appropriate variables below. Then, display the head of each to ensure that everything loaded correctly.  "
   ]
  },
  {
   "cell_type": "code",
   "execution_count": 2,
   "metadata": {},
   "outputs": [],
   "source": [
    "heroes_df = pd.read_csv(\"heroes_information.csv\")\n",
    "powers_df = pd.read_csv(\"super_hero_powers.csv\")"
   ]
  },
  {
   "cell_type": "code",
   "execution_count": 3,
   "metadata": {},
   "outputs": [
    {
     "data": {
      "text/html": [
       "<div>\n",
       "<style scoped>\n",
       "    .dataframe tbody tr th:only-of-type {\n",
       "        vertical-align: middle;\n",
       "    }\n",
       "\n",
       "    .dataframe tbody tr th {\n",
       "        vertical-align: top;\n",
       "    }\n",
       "\n",
       "    .dataframe thead th {\n",
       "        text-align: right;\n",
       "    }\n",
       "</style>\n",
       "<table border=\"1\" class=\"dataframe\">\n",
       "  <thead>\n",
       "    <tr style=\"text-align: right;\">\n",
       "      <th></th>\n",
       "      <th>Unnamed: 0</th>\n",
       "      <th>name</th>\n",
       "      <th>Gender</th>\n",
       "      <th>Eye color</th>\n",
       "      <th>Race</th>\n",
       "      <th>Hair color</th>\n",
       "      <th>Height</th>\n",
       "      <th>Publisher</th>\n",
       "      <th>Skin color</th>\n",
       "      <th>Alignment</th>\n",
       "      <th>Weight</th>\n",
       "    </tr>\n",
       "  </thead>\n",
       "  <tbody>\n",
       "    <tr>\n",
       "      <th>0</th>\n",
       "      <td>0</td>\n",
       "      <td>A-Bomb</td>\n",
       "      <td>Male</td>\n",
       "      <td>yellow</td>\n",
       "      <td>Human</td>\n",
       "      <td>No Hair</td>\n",
       "      <td>203.0</td>\n",
       "      <td>Marvel Comics</td>\n",
       "      <td>-</td>\n",
       "      <td>good</td>\n",
       "      <td>441.0</td>\n",
       "    </tr>\n",
       "    <tr>\n",
       "      <th>1</th>\n",
       "      <td>1</td>\n",
       "      <td>Abe Sapien</td>\n",
       "      <td>Male</td>\n",
       "      <td>blue</td>\n",
       "      <td>Icthyo Sapien</td>\n",
       "      <td>No Hair</td>\n",
       "      <td>191.0</td>\n",
       "      <td>Dark Horse Comics</td>\n",
       "      <td>blue</td>\n",
       "      <td>good</td>\n",
       "      <td>65.0</td>\n",
       "    </tr>\n",
       "    <tr>\n",
       "      <th>2</th>\n",
       "      <td>2</td>\n",
       "      <td>Abin Sur</td>\n",
       "      <td>Male</td>\n",
       "      <td>blue</td>\n",
       "      <td>Ungaran</td>\n",
       "      <td>No Hair</td>\n",
       "      <td>185.0</td>\n",
       "      <td>DC Comics</td>\n",
       "      <td>red</td>\n",
       "      <td>good</td>\n",
       "      <td>90.0</td>\n",
       "    </tr>\n",
       "    <tr>\n",
       "      <th>3</th>\n",
       "      <td>3</td>\n",
       "      <td>Abomination</td>\n",
       "      <td>Male</td>\n",
       "      <td>green</td>\n",
       "      <td>Human / Radiation</td>\n",
       "      <td>No Hair</td>\n",
       "      <td>203.0</td>\n",
       "      <td>Marvel Comics</td>\n",
       "      <td>-</td>\n",
       "      <td>bad</td>\n",
       "      <td>441.0</td>\n",
       "    </tr>\n",
       "    <tr>\n",
       "      <th>4</th>\n",
       "      <td>4</td>\n",
       "      <td>Abraxas</td>\n",
       "      <td>Male</td>\n",
       "      <td>blue</td>\n",
       "      <td>Cosmic Entity</td>\n",
       "      <td>Black</td>\n",
       "      <td>-99.0</td>\n",
       "      <td>Marvel Comics</td>\n",
       "      <td>-</td>\n",
       "      <td>bad</td>\n",
       "      <td>-99.0</td>\n",
       "    </tr>\n",
       "  </tbody>\n",
       "</table>\n",
       "</div>"
      ],
      "text/plain": [
       "   Unnamed: 0         name Gender Eye color               Race Hair color  \\\n",
       "0           0       A-Bomb   Male    yellow              Human    No Hair   \n",
       "1           1   Abe Sapien   Male      blue      Icthyo Sapien    No Hair   \n",
       "2           2     Abin Sur   Male      blue            Ungaran    No Hair   \n",
       "3           3  Abomination   Male     green  Human / Radiation    No Hair   \n",
       "4           4      Abraxas   Male      blue      Cosmic Entity      Black   \n",
       "\n",
       "   Height          Publisher Skin color Alignment  Weight  \n",
       "0   203.0      Marvel Comics          -      good   441.0  \n",
       "1   191.0  Dark Horse Comics       blue      good    65.0  \n",
       "2   185.0          DC Comics        red      good    90.0  \n",
       "3   203.0      Marvel Comics          -       bad   441.0  \n",
       "4   -99.0      Marvel Comics          -       bad   -99.0  "
      ]
     },
     "execution_count": 3,
     "metadata": {},
     "output_type": "execute_result"
    }
   ],
   "source": [
    "heroes_df.head()"
   ]
  },
  {
   "cell_type": "code",
   "execution_count": 4,
   "metadata": {},
   "outputs": [
    {
     "data": {
      "text/html": [
       "<div>\n",
       "<style scoped>\n",
       "    .dataframe tbody tr th:only-of-type {\n",
       "        vertical-align: middle;\n",
       "    }\n",
       "\n",
       "    .dataframe tbody tr th {\n",
       "        vertical-align: top;\n",
       "    }\n",
       "\n",
       "    .dataframe thead th {\n",
       "        text-align: right;\n",
       "    }\n",
       "</style>\n",
       "<table border=\"1\" class=\"dataframe\">\n",
       "  <thead>\n",
       "    <tr style=\"text-align: right;\">\n",
       "      <th></th>\n",
       "      <th>hero_names</th>\n",
       "      <th>Agility</th>\n",
       "      <th>Accelerated Healing</th>\n",
       "      <th>Lantern Power Ring</th>\n",
       "      <th>Dimensional Awareness</th>\n",
       "      <th>Cold Resistance</th>\n",
       "      <th>Durability</th>\n",
       "      <th>Stealth</th>\n",
       "      <th>Energy Absorption</th>\n",
       "      <th>Flight</th>\n",
       "      <th>...</th>\n",
       "      <th>Web Creation</th>\n",
       "      <th>Reality Warping</th>\n",
       "      <th>Odin Force</th>\n",
       "      <th>Symbiote Costume</th>\n",
       "      <th>Speed Force</th>\n",
       "      <th>Phoenix Force</th>\n",
       "      <th>Molecular Dissipation</th>\n",
       "      <th>Vision - Cryo</th>\n",
       "      <th>Omnipresent</th>\n",
       "      <th>Omniscient</th>\n",
       "    </tr>\n",
       "  </thead>\n",
       "  <tbody>\n",
       "    <tr>\n",
       "      <th>0</th>\n",
       "      <td>3-D Man</td>\n",
       "      <td>True</td>\n",
       "      <td>False</td>\n",
       "      <td>False</td>\n",
       "      <td>False</td>\n",
       "      <td>False</td>\n",
       "      <td>False</td>\n",
       "      <td>False</td>\n",
       "      <td>False</td>\n",
       "      <td>False</td>\n",
       "      <td>...</td>\n",
       "      <td>False</td>\n",
       "      <td>False</td>\n",
       "      <td>False</td>\n",
       "      <td>False</td>\n",
       "      <td>False</td>\n",
       "      <td>False</td>\n",
       "      <td>False</td>\n",
       "      <td>False</td>\n",
       "      <td>False</td>\n",
       "      <td>False</td>\n",
       "    </tr>\n",
       "    <tr>\n",
       "      <th>1</th>\n",
       "      <td>A-Bomb</td>\n",
       "      <td>False</td>\n",
       "      <td>True</td>\n",
       "      <td>False</td>\n",
       "      <td>False</td>\n",
       "      <td>False</td>\n",
       "      <td>True</td>\n",
       "      <td>False</td>\n",
       "      <td>False</td>\n",
       "      <td>False</td>\n",
       "      <td>...</td>\n",
       "      <td>False</td>\n",
       "      <td>False</td>\n",
       "      <td>False</td>\n",
       "      <td>False</td>\n",
       "      <td>False</td>\n",
       "      <td>False</td>\n",
       "      <td>False</td>\n",
       "      <td>False</td>\n",
       "      <td>False</td>\n",
       "      <td>False</td>\n",
       "    </tr>\n",
       "    <tr>\n",
       "      <th>2</th>\n",
       "      <td>Abe Sapien</td>\n",
       "      <td>True</td>\n",
       "      <td>True</td>\n",
       "      <td>False</td>\n",
       "      <td>False</td>\n",
       "      <td>True</td>\n",
       "      <td>True</td>\n",
       "      <td>False</td>\n",
       "      <td>False</td>\n",
       "      <td>False</td>\n",
       "      <td>...</td>\n",
       "      <td>False</td>\n",
       "      <td>False</td>\n",
       "      <td>False</td>\n",
       "      <td>False</td>\n",
       "      <td>False</td>\n",
       "      <td>False</td>\n",
       "      <td>False</td>\n",
       "      <td>False</td>\n",
       "      <td>False</td>\n",
       "      <td>False</td>\n",
       "    </tr>\n",
       "    <tr>\n",
       "      <th>3</th>\n",
       "      <td>Abin Sur</td>\n",
       "      <td>False</td>\n",
       "      <td>False</td>\n",
       "      <td>True</td>\n",
       "      <td>False</td>\n",
       "      <td>False</td>\n",
       "      <td>False</td>\n",
       "      <td>False</td>\n",
       "      <td>False</td>\n",
       "      <td>False</td>\n",
       "      <td>...</td>\n",
       "      <td>False</td>\n",
       "      <td>False</td>\n",
       "      <td>False</td>\n",
       "      <td>False</td>\n",
       "      <td>False</td>\n",
       "      <td>False</td>\n",
       "      <td>False</td>\n",
       "      <td>False</td>\n",
       "      <td>False</td>\n",
       "      <td>False</td>\n",
       "    </tr>\n",
       "    <tr>\n",
       "      <th>4</th>\n",
       "      <td>Abomination</td>\n",
       "      <td>False</td>\n",
       "      <td>True</td>\n",
       "      <td>False</td>\n",
       "      <td>False</td>\n",
       "      <td>False</td>\n",
       "      <td>False</td>\n",
       "      <td>False</td>\n",
       "      <td>False</td>\n",
       "      <td>False</td>\n",
       "      <td>...</td>\n",
       "      <td>False</td>\n",
       "      <td>False</td>\n",
       "      <td>False</td>\n",
       "      <td>False</td>\n",
       "      <td>False</td>\n",
       "      <td>False</td>\n",
       "      <td>False</td>\n",
       "      <td>False</td>\n",
       "      <td>False</td>\n",
       "      <td>False</td>\n",
       "    </tr>\n",
       "  </tbody>\n",
       "</table>\n",
       "<p>5 rows × 168 columns</p>\n",
       "</div>"
      ],
      "text/plain": [
       "    hero_names  Agility  Accelerated Healing  Lantern Power Ring  \\\n",
       "0      3-D Man     True                False               False   \n",
       "1       A-Bomb    False                 True               False   \n",
       "2   Abe Sapien     True                 True               False   \n",
       "3     Abin Sur    False                False                True   \n",
       "4  Abomination    False                 True               False   \n",
       "\n",
       "   Dimensional Awareness  Cold Resistance  Durability  Stealth  \\\n",
       "0                  False            False       False    False   \n",
       "1                  False            False        True    False   \n",
       "2                  False             True        True    False   \n",
       "3                  False            False       False    False   \n",
       "4                  False            False       False    False   \n",
       "\n",
       "   Energy Absorption  Flight  ...  Web Creation  Reality Warping  Odin Force  \\\n",
       "0              False   False  ...         False            False       False   \n",
       "1              False   False  ...         False            False       False   \n",
       "2              False   False  ...         False            False       False   \n",
       "3              False   False  ...         False            False       False   \n",
       "4              False   False  ...         False            False       False   \n",
       "\n",
       "   Symbiote Costume  Speed Force  Phoenix Force  Molecular Dissipation  \\\n",
       "0             False        False          False                  False   \n",
       "1             False        False          False                  False   \n",
       "2             False        False          False                  False   \n",
       "3             False        False          False                  False   \n",
       "4             False        False          False                  False   \n",
       "\n",
       "   Vision - Cryo  Omnipresent  Omniscient  \n",
       "0          False        False       False  \n",
       "1          False        False       False  \n",
       "2          False        False       False  \n",
       "3          False        False       False  \n",
       "4          False        False       False  \n",
       "\n",
       "[5 rows x 168 columns]"
      ]
     },
     "execution_count": 4,
     "metadata": {},
     "output_type": "execute_result"
    }
   ],
   "source": [
    "powers_df.head()"
   ]
  },
  {
   "cell_type": "markdown",
   "metadata": {},
   "source": [
    "It looks as if the heroes information dataset contained an index column.  We did not specify that this dataset contained an index column, because we hadn't seen it yet. Pandas does not know how to tell apart an index column from any other data, so it stored it with the column name `Unnamed: 0`.  \n",
    "\n",
    "Our DataFrame provided row indices by default, so this column is not needed.  Drop it from the DataFrame in place in the cell below, and then display the head of `heroes_df` to ensure that it worked properly. "
   ]
  },
  {
   "cell_type": "code",
   "execution_count": 5,
   "metadata": {},
   "outputs": [
    {
     "data": {
      "text/html": [
       "<div>\n",
       "<style scoped>\n",
       "    .dataframe tbody tr th:only-of-type {\n",
       "        vertical-align: middle;\n",
       "    }\n",
       "\n",
       "    .dataframe tbody tr th {\n",
       "        vertical-align: top;\n",
       "    }\n",
       "\n",
       "    .dataframe thead th {\n",
       "        text-align: right;\n",
       "    }\n",
       "</style>\n",
       "<table border=\"1\" class=\"dataframe\">\n",
       "  <thead>\n",
       "    <tr style=\"text-align: right;\">\n",
       "      <th></th>\n",
       "      <th>name</th>\n",
       "      <th>Gender</th>\n",
       "      <th>Eye color</th>\n",
       "      <th>Race</th>\n",
       "      <th>Hair color</th>\n",
       "      <th>Height</th>\n",
       "      <th>Publisher</th>\n",
       "      <th>Skin color</th>\n",
       "      <th>Alignment</th>\n",
       "      <th>Weight</th>\n",
       "    </tr>\n",
       "  </thead>\n",
       "  <tbody>\n",
       "    <tr>\n",
       "      <th>0</th>\n",
       "      <td>A-Bomb</td>\n",
       "      <td>Male</td>\n",
       "      <td>yellow</td>\n",
       "      <td>Human</td>\n",
       "      <td>No Hair</td>\n",
       "      <td>203.0</td>\n",
       "      <td>Marvel Comics</td>\n",
       "      <td>-</td>\n",
       "      <td>good</td>\n",
       "      <td>441.0</td>\n",
       "    </tr>\n",
       "    <tr>\n",
       "      <th>1</th>\n",
       "      <td>Abe Sapien</td>\n",
       "      <td>Male</td>\n",
       "      <td>blue</td>\n",
       "      <td>Icthyo Sapien</td>\n",
       "      <td>No Hair</td>\n",
       "      <td>191.0</td>\n",
       "      <td>Dark Horse Comics</td>\n",
       "      <td>blue</td>\n",
       "      <td>good</td>\n",
       "      <td>65.0</td>\n",
       "    </tr>\n",
       "    <tr>\n",
       "      <th>2</th>\n",
       "      <td>Abin Sur</td>\n",
       "      <td>Male</td>\n",
       "      <td>blue</td>\n",
       "      <td>Ungaran</td>\n",
       "      <td>No Hair</td>\n",
       "      <td>185.0</td>\n",
       "      <td>DC Comics</td>\n",
       "      <td>red</td>\n",
       "      <td>good</td>\n",
       "      <td>90.0</td>\n",
       "    </tr>\n",
       "    <tr>\n",
       "      <th>3</th>\n",
       "      <td>Abomination</td>\n",
       "      <td>Male</td>\n",
       "      <td>green</td>\n",
       "      <td>Human / Radiation</td>\n",
       "      <td>No Hair</td>\n",
       "      <td>203.0</td>\n",
       "      <td>Marvel Comics</td>\n",
       "      <td>-</td>\n",
       "      <td>bad</td>\n",
       "      <td>441.0</td>\n",
       "    </tr>\n",
       "    <tr>\n",
       "      <th>4</th>\n",
       "      <td>Abraxas</td>\n",
       "      <td>Male</td>\n",
       "      <td>blue</td>\n",
       "      <td>Cosmic Entity</td>\n",
       "      <td>Black</td>\n",
       "      <td>-99.0</td>\n",
       "      <td>Marvel Comics</td>\n",
       "      <td>-</td>\n",
       "      <td>bad</td>\n",
       "      <td>-99.0</td>\n",
       "    </tr>\n",
       "  </tbody>\n",
       "</table>\n",
       "</div>"
      ],
      "text/plain": [
       "          name Gender Eye color               Race Hair color  Height  \\\n",
       "0       A-Bomb   Male    yellow              Human    No Hair   203.0   \n",
       "1   Abe Sapien   Male      blue      Icthyo Sapien    No Hair   191.0   \n",
       "2     Abin Sur   Male      blue            Ungaran    No Hair   185.0   \n",
       "3  Abomination   Male     green  Human / Radiation    No Hair   203.0   \n",
       "4      Abraxas   Male      blue      Cosmic Entity      Black   -99.0   \n",
       "\n",
       "           Publisher Skin color Alignment  Weight  \n",
       "0      Marvel Comics          -      good   441.0  \n",
       "1  Dark Horse Comics       blue      good    65.0  \n",
       "2          DC Comics        red      good    90.0  \n",
       "3      Marvel Comics          -       bad   441.0  \n",
       "4      Marvel Comics          -       bad   -99.0  "
      ]
     },
     "execution_count": 5,
     "metadata": {},
     "output_type": "execute_result"
    }
   ],
   "source": [
    "heroes_df=heroes_df.drop([\"Unnamed: 0\"],axis=1)\n",
    "heroes_df.head()"
   ]
  },
  {
   "cell_type": "markdown",
   "metadata": {},
   "source": [
    "## Familiarize Yourself With the Dataset\n",
    "\n",
    "The first step in our Exploratory Data Analysis will be to get familiar with the data.  This step includes:\n",
    "\n",
    "* Understanding the dimensionality of your dataset\n",
    "* Investigating what type of data it contains, and the data types used to store it\n",
    "* Discovering how missing values are encoded, and how many there are\n",
    "* Getting a feel for what information it does and doesn't contain\n",
    "\n",
    "In the cell below, get the descriptive statistics of each DataFrame.  "
   ]
  },
  {
   "cell_type": "code",
   "execution_count": 6,
   "metadata": {
    "scrolled": true
   },
   "outputs": [
    {
     "name": "stdout",
     "output_type": "stream",
     "text": [
      "<class 'pandas.core.frame.DataFrame'>\n",
      "RangeIndex: 734 entries, 0 to 733\n",
      "Data columns (total 10 columns):\n",
      "name          734 non-null object\n",
      "Gender        734 non-null object\n",
      "Eye color     734 non-null object\n",
      "Race          734 non-null object\n",
      "Hair color    734 non-null object\n",
      "Height        734 non-null float64\n",
      "Publisher     719 non-null object\n",
      "Skin color    734 non-null object\n",
      "Alignment     734 non-null object\n",
      "Weight        732 non-null float64\n",
      "dtypes: float64(2), object(8)\n",
      "memory usage: 57.4+ KB\n"
     ]
    }
   ],
   "source": [
    "heroes_df.info()"
   ]
  },
  {
   "cell_type": "code",
   "execution_count": 7,
   "metadata": {
    "scrolled": true
   },
   "outputs": [
    {
     "name": "stdout",
     "output_type": "stream",
     "text": [
      "<class 'pandas.core.frame.DataFrame'>\n",
      "RangeIndex: 667 entries, 0 to 666\n",
      "Columns: 168 entries, hero_names to Omniscient\n",
      "dtypes: bool(167), object(1)\n",
      "memory usage: 114.1+ KB\n"
     ]
    }
   ],
   "source": [
    "powers_df.info()"
   ]
  },
  {
   "cell_type": "markdown",
   "metadata": {},
   "source": [
    "## Dealing with Null Values\n",
    "\n",
    "Starting in the cell below, detect and deal with any null values in either data frame.  Then, explain your methodology for detecting and dealing with outliers in the markdown section below.  Be sure to explain your strategy for dealing with null values in numeric columns, as well as your strategy for dealing with null values in non-numeric columns.  \n",
    "\n",
    "Note that if you need to add more cells to write code in, you can do this by:\n",
    "\n",
    "**1.** Highlighting a cell and then pressing `ESC` to enter command mode.  \n",
    "**2.** Press `A` to add a cell above the highlighted cell, or `B` to add a cell below the highlighted cell. \n",
    "\n",
    "Describe your strategy below this line:\n",
    "____________________________________________________________________________________________________________________________\n",
    "**1.** Figure out which categories have null values by using .sum().\n",
    "\n",
    "**2.** Figure out the percentage of missing data the columns that have missing data.\n",
    "\n",
    "**3.** Look at the data that's in that column to see if I can figure out a way to predict what the value should be.\n",
    "\n",
    "**4.** If I can't see a good way to impute the missing values, I'll drop the column (if there's a lot of missing data) or I'll drop the rows that are missing data (if it's only a couple rows).\n",
    "\n"
   ]
  },
  {
   "cell_type": "code",
   "execution_count": 8,
   "metadata": {
    "scrolled": true
   },
   "outputs": [
    {
     "data": {
      "text/plain": [
       "name           0\n",
       "Gender         0\n",
       "Eye color      0\n",
       "Race           0\n",
       "Hair color     0\n",
       "Height         0\n",
       "Publisher     15\n",
       "Skin color     0\n",
       "Alignment      0\n",
       "Weight         2\n",
       "dtype: int64"
      ]
     },
     "execution_count": 8,
     "metadata": {},
     "output_type": "execute_result"
    }
   ],
   "source": [
    "heroes_df.isna().sum()"
   ]
  },
  {
   "cell_type": "code",
   "execution_count": 9,
   "metadata": {
    "scrolled": true
   },
   "outputs": [
    {
     "data": {
      "text/plain": [
       "Marvel Comics        388\n",
       "DC Comics            215\n",
       "NBC - Heroes          19\n",
       "Dark Horse Comics     18\n",
       "George Lucas          14\n",
       "Image Comics          14\n",
       "HarperCollins          6\n",
       "Star Trek              6\n",
       "SyFy                   5\n",
       "Team Epic TV           5\n",
       "IDW Publishing         4\n",
       "Icon Comics            4\n",
       "Shueisha               4\n",
       "ABC Studios            4\n",
       "Wildstorm              3\n",
       "Sony Pictures          2\n",
       "Hanna-Barbera          1\n",
       "South Park             1\n",
       "Rebellion              1\n",
       "J. K. Rowling          1\n",
       "Microsoft              1\n",
       "Universal Studios      1\n",
       "Titan Books            1\n",
       "J. R. R. Tolkien       1\n",
       "Name: Publisher, dtype: int64"
      ]
     },
     "execution_count": 9,
     "metadata": {},
     "output_type": "execute_result"
    }
   ],
   "source": [
    "heroes_df.Publisher.value_counts()"
   ]
  },
  {
   "cell_type": "code",
   "execution_count": 10,
   "metadata": {
    "scrolled": false
   },
   "outputs": [
    {
     "data": {
      "text/html": [
       "<div>\n",
       "<style scoped>\n",
       "    .dataframe tbody tr th:only-of-type {\n",
       "        vertical-align: middle;\n",
       "    }\n",
       "\n",
       "    .dataframe tbody tr th {\n",
       "        vertical-align: top;\n",
       "    }\n",
       "\n",
       "    .dataframe thead th {\n",
       "        text-align: right;\n",
       "    }\n",
       "</style>\n",
       "<table border=\"1\" class=\"dataframe\">\n",
       "  <thead>\n",
       "    <tr style=\"text-align: right;\">\n",
       "      <th></th>\n",
       "      <th>name</th>\n",
       "      <th>Gender</th>\n",
       "      <th>Eye color</th>\n",
       "      <th>Race</th>\n",
       "      <th>Hair color</th>\n",
       "      <th>Height</th>\n",
       "      <th>Publisher</th>\n",
       "      <th>Skin color</th>\n",
       "      <th>Alignment</th>\n",
       "      <th>Weight</th>\n",
       "    </tr>\n",
       "  </thead>\n",
       "  <tbody>\n",
       "    <tr>\n",
       "      <th>46</th>\n",
       "      <td>Astro Boy</td>\n",
       "      <td>Male</td>\n",
       "      <td>brown</td>\n",
       "      <td>-</td>\n",
       "      <td>Black</td>\n",
       "      <td>-99.0</td>\n",
       "      <td>NaN</td>\n",
       "      <td>-</td>\n",
       "      <td>good</td>\n",
       "      <td>-99.0</td>\n",
       "    </tr>\n",
       "    <tr>\n",
       "      <th>86</th>\n",
       "      <td>Bionic Woman</td>\n",
       "      <td>Female</td>\n",
       "      <td>blue</td>\n",
       "      <td>Cyborg</td>\n",
       "      <td>Black</td>\n",
       "      <td>-99.0</td>\n",
       "      <td>NaN</td>\n",
       "      <td>-</td>\n",
       "      <td>good</td>\n",
       "      <td>-99.0</td>\n",
       "    </tr>\n",
       "    <tr>\n",
       "      <th>138</th>\n",
       "      <td>Brundlefly</td>\n",
       "      <td>Male</td>\n",
       "      <td>-</td>\n",
       "      <td>Mutant</td>\n",
       "      <td>-</td>\n",
       "      <td>193.0</td>\n",
       "      <td>NaN</td>\n",
       "      <td>-</td>\n",
       "      <td>-</td>\n",
       "      <td>-99.0</td>\n",
       "    </tr>\n",
       "    <tr>\n",
       "      <th>175</th>\n",
       "      <td>Chuck Norris</td>\n",
       "      <td>Male</td>\n",
       "      <td>-</td>\n",
       "      <td>-</td>\n",
       "      <td>-</td>\n",
       "      <td>178.0</td>\n",
       "      <td>NaN</td>\n",
       "      <td>-</td>\n",
       "      <td>good</td>\n",
       "      <td>-99.0</td>\n",
       "    </tr>\n",
       "    <tr>\n",
       "      <th>204</th>\n",
       "      <td>Darkside</td>\n",
       "      <td>-</td>\n",
       "      <td>-</td>\n",
       "      <td>-</td>\n",
       "      <td>-</td>\n",
       "      <td>-99.0</td>\n",
       "      <td>NaN</td>\n",
       "      <td>-</td>\n",
       "      <td>bad</td>\n",
       "      <td>-99.0</td>\n",
       "    </tr>\n",
       "    <tr>\n",
       "      <th>244</th>\n",
       "      <td>Ethan Hunt</td>\n",
       "      <td>Male</td>\n",
       "      <td>brown</td>\n",
       "      <td>Human</td>\n",
       "      <td>Brown</td>\n",
       "      <td>168.0</td>\n",
       "      <td>NaN</td>\n",
       "      <td>-</td>\n",
       "      <td>good</td>\n",
       "      <td>-99.0</td>\n",
       "    </tr>\n",
       "    <tr>\n",
       "      <th>263</th>\n",
       "      <td>Flash Gordon</td>\n",
       "      <td>Male</td>\n",
       "      <td>-</td>\n",
       "      <td>-</td>\n",
       "      <td>-</td>\n",
       "      <td>-99.0</td>\n",
       "      <td>NaN</td>\n",
       "      <td>-</td>\n",
       "      <td>good</td>\n",
       "      <td>-99.0</td>\n",
       "    </tr>\n",
       "    <tr>\n",
       "      <th>286</th>\n",
       "      <td>Godzilla</td>\n",
       "      <td>-</td>\n",
       "      <td>-</td>\n",
       "      <td>Kaiju</td>\n",
       "      <td>-</td>\n",
       "      <td>108.0</td>\n",
       "      <td>NaN</td>\n",
       "      <td>grey</td>\n",
       "      <td>bad</td>\n",
       "      <td>NaN</td>\n",
       "    </tr>\n",
       "    <tr>\n",
       "      <th>348</th>\n",
       "      <td>Jack Bauer</td>\n",
       "      <td>Male</td>\n",
       "      <td>-</td>\n",
       "      <td>-</td>\n",
       "      <td>-</td>\n",
       "      <td>-99.0</td>\n",
       "      <td>NaN</td>\n",
       "      <td>-</td>\n",
       "      <td>good</td>\n",
       "      <td>-99.0</td>\n",
       "    </tr>\n",
       "    <tr>\n",
       "      <th>354</th>\n",
       "      <td>Jason Bourne</td>\n",
       "      <td>Male</td>\n",
       "      <td>-</td>\n",
       "      <td>Human</td>\n",
       "      <td>-</td>\n",
       "      <td>-99.0</td>\n",
       "      <td>NaN</td>\n",
       "      <td>-</td>\n",
       "      <td>good</td>\n",
       "      <td>-99.0</td>\n",
       "    </tr>\n",
       "    <tr>\n",
       "      <th>381</th>\n",
       "      <td>Katniss Everdeen</td>\n",
       "      <td>Female</td>\n",
       "      <td>-</td>\n",
       "      <td>Human</td>\n",
       "      <td>-</td>\n",
       "      <td>-99.0</td>\n",
       "      <td>NaN</td>\n",
       "      <td>-</td>\n",
       "      <td>good</td>\n",
       "      <td>-99.0</td>\n",
       "    </tr>\n",
       "    <tr>\n",
       "      <th>389</th>\n",
       "      <td>King Kong</td>\n",
       "      <td>Male</td>\n",
       "      <td>yellow</td>\n",
       "      <td>Animal</td>\n",
       "      <td>Black</td>\n",
       "      <td>30.5</td>\n",
       "      <td>NaN</td>\n",
       "      <td>-</td>\n",
       "      <td>good</td>\n",
       "      <td>NaN</td>\n",
       "    </tr>\n",
       "    <tr>\n",
       "      <th>393</th>\n",
       "      <td>Kool-Aid Man</td>\n",
       "      <td>Male</td>\n",
       "      <td>black</td>\n",
       "      <td>-</td>\n",
       "      <td>No Hair</td>\n",
       "      <td>-99.0</td>\n",
       "      <td>NaN</td>\n",
       "      <td>red</td>\n",
       "      <td>good</td>\n",
       "      <td>-99.0</td>\n",
       "    </tr>\n",
       "    <tr>\n",
       "      <th>542</th>\n",
       "      <td>Rambo</td>\n",
       "      <td>Male</td>\n",
       "      <td>brown</td>\n",
       "      <td>Human</td>\n",
       "      <td>Black</td>\n",
       "      <td>178.0</td>\n",
       "      <td>NaN</td>\n",
       "      <td>-</td>\n",
       "      <td>good</td>\n",
       "      <td>83.0</td>\n",
       "    </tr>\n",
       "    <tr>\n",
       "      <th>658</th>\n",
       "      <td>The Cape</td>\n",
       "      <td>Male</td>\n",
       "      <td>-</td>\n",
       "      <td>-</td>\n",
       "      <td>-</td>\n",
       "      <td>-99.0</td>\n",
       "      <td>NaN</td>\n",
       "      <td>-</td>\n",
       "      <td>good</td>\n",
       "      <td>-99.0</td>\n",
       "    </tr>\n",
       "  </tbody>\n",
       "</table>\n",
       "</div>"
      ],
      "text/plain": [
       "                 name  Gender Eye color    Race Hair color  Height Publisher  \\\n",
       "46          Astro Boy    Male     brown       -      Black   -99.0       NaN   \n",
       "86       Bionic Woman  Female      blue  Cyborg      Black   -99.0       NaN   \n",
       "138        Brundlefly    Male         -  Mutant          -   193.0       NaN   \n",
       "175      Chuck Norris    Male         -       -          -   178.0       NaN   \n",
       "204          Darkside       -         -       -          -   -99.0       NaN   \n",
       "244        Ethan Hunt    Male     brown   Human      Brown   168.0       NaN   \n",
       "263      Flash Gordon    Male         -       -          -   -99.0       NaN   \n",
       "286          Godzilla       -         -   Kaiju          -   108.0       NaN   \n",
       "348        Jack Bauer    Male         -       -          -   -99.0       NaN   \n",
       "354      Jason Bourne    Male         -   Human          -   -99.0       NaN   \n",
       "381  Katniss Everdeen  Female         -   Human          -   -99.0       NaN   \n",
       "389         King Kong    Male    yellow  Animal      Black    30.5       NaN   \n",
       "393      Kool-Aid Man    Male     black       -    No Hair   -99.0       NaN   \n",
       "542             Rambo    Male     brown   Human      Black   178.0       NaN   \n",
       "658          The Cape    Male         -       -          -   -99.0       NaN   \n",
       "\n",
       "    Skin color Alignment  Weight  \n",
       "46           -      good   -99.0  \n",
       "86           -      good   -99.0  \n",
       "138          -         -   -99.0  \n",
       "175          -      good   -99.0  \n",
       "204          -       bad   -99.0  \n",
       "244          -      good   -99.0  \n",
       "263          -      good   -99.0  \n",
       "286       grey       bad     NaN  \n",
       "348          -      good   -99.0  \n",
       "354          -      good   -99.0  \n",
       "381          -      good   -99.0  \n",
       "389          -      good     NaN  \n",
       "393        red      good   -99.0  \n",
       "542          -      good    83.0  \n",
       "658          -      good   -99.0  "
      ]
     },
     "execution_count": 10,
     "metadata": {},
     "output_type": "execute_result"
    }
   ],
   "source": [
    "heroes_df.loc[heroes_df[\"Publisher\"].isna()]"
   ]
  },
  {
   "cell_type": "markdown",
   "metadata": {},
   "source": [
    "Looking at the entries that don't have a publisher listed, I noticed that there are definitely some placeholder values in the weight and height columns so I'll have to deal with those later, too.  I also notice that there are other missing values that aren't listed as `NaN` but are instead `-` so I'll need to look for those, too. "
   ]
  },
  {
   "cell_type": "code",
   "execution_count": 11,
   "metadata": {},
   "outputs": [],
   "source": [
    "heroes_df.dropna(subset=[\"Publisher\"],inplace=True)"
   ]
  },
  {
   "cell_type": "code",
   "execution_count": 12,
   "metadata": {
    "scrolled": false
   },
   "outputs": [
    {
     "data": {
      "text/plain": [
       "name          0\n",
       "Gender        0\n",
       "Eye color     0\n",
       "Race          0\n",
       "Hair color    0\n",
       "Height        0\n",
       "Publisher     0\n",
       "Skin color    0\n",
       "Alignment     0\n",
       "Weight        0\n",
       "dtype: int64"
      ]
     },
     "execution_count": 12,
     "metadata": {},
     "output_type": "execute_result"
    }
   ],
   "source": [
    "heroes_df.isna().sum()"
   ]
  },
  {
   "cell_type": "code",
   "execution_count": 13,
   "metadata": {},
   "outputs": [
    {
     "data": {
      "text/plain": [
       "-99.0     225\n",
       " 79.0      23\n",
       " 54.0      23\n",
       " 81.0      22\n",
       " 90.0      19\n",
       " 52.0      15\n",
       " 86.0      15\n",
       " 59.0      14\n",
       " 56.0      13\n",
       " 77.0      13\n",
       " 61.0      13\n",
       " 101.0     12\n",
       " 50.0      12\n",
       " 88.0      11\n",
       " 63.0      11\n",
       " 95.0      10\n",
       " 74.0      10\n",
       " 83.0       9\n",
       " 65.0       9\n",
       " 72.0       8\n",
       " 68.0       8\n",
       " 104.0      8\n",
       " 135.0      8\n",
       " 57.0       7\n",
       " 97.0       7\n",
       " 99.0       7\n",
       " 117.0      6\n",
       " 108.0      6\n",
       " 55.0       5\n",
       " 70.0       5\n",
       "         ... \n",
       " 14.0       1\n",
       " 356.0      1\n",
       " 105.0      1\n",
       " 324.0      1\n",
       " 360.0      1\n",
       " 236.0      1\n",
       " 36.0       1\n",
       " 140.0      1\n",
       " 128.0      1\n",
       " 248.0      1\n",
       " 16.0       1\n",
       " 45.0       1\n",
       " 234.0      1\n",
       " 96.0       1\n",
       " 82.0       1\n",
       " 76.0       1\n",
       " 198.0      1\n",
       " 116.0      1\n",
       " 176.0      1\n",
       " 170.0      1\n",
       " 47.0       1\n",
       " 78.0       1\n",
       " 27.0       1\n",
       " 25.0       1\n",
       " 178.0      1\n",
       " 132.0      1\n",
       " 38.0       1\n",
       " 412.0      1\n",
       " 320.0      1\n",
       " 855.0      1\n",
       "Name: Weight, Length: 135, dtype: int64"
      ]
     },
     "execution_count": 13,
     "metadata": {},
     "output_type": "execute_result"
    }
   ],
   "source": [
    "heroes_df.Weight.value_counts()"
   ]
  },
  {
   "cell_type": "code",
   "execution_count": 14,
   "metadata": {
    "scrolled": false
   },
   "outputs": [
    {
     "data": {
      "text/plain": [
       "31.29346314325452"
      ]
     },
     "execution_count": 14,
     "metadata": {},
     "output_type": "execute_result"
    }
   ],
   "source": [
    "len(heroes_df.loc[heroes_df[\"Weight\"]==-99.0])/len(heroes_df[\"Weight\"])*100"
   ]
  },
  {
   "cell_type": "code",
   "execution_count": 15,
   "metadata": {
    "scrolled": true
   },
   "outputs": [
    {
     "data": {
      "text/html": [
       "<div>\n",
       "<style scoped>\n",
       "    .dataframe tbody tr th:only-of-type {\n",
       "        vertical-align: middle;\n",
       "    }\n",
       "\n",
       "    .dataframe tbody tr th {\n",
       "        vertical-align: top;\n",
       "    }\n",
       "\n",
       "    .dataframe thead th {\n",
       "        text-align: right;\n",
       "    }\n",
       "</style>\n",
       "<table border=\"1\" class=\"dataframe\">\n",
       "  <thead>\n",
       "    <tr style=\"text-align: right;\">\n",
       "      <th></th>\n",
       "      <th>count</th>\n",
       "      <th>mean</th>\n",
       "      <th>std</th>\n",
       "      <th>min</th>\n",
       "      <th>25%</th>\n",
       "      <th>50%</th>\n",
       "      <th>75%</th>\n",
       "      <th>max</th>\n",
       "    </tr>\n",
       "    <tr>\n",
       "      <th>Gender</th>\n",
       "      <th></th>\n",
       "      <th></th>\n",
       "      <th></th>\n",
       "      <th></th>\n",
       "      <th></th>\n",
       "      <th></th>\n",
       "      <th></th>\n",
       "      <th></th>\n",
       "    </tr>\n",
       "  </thead>\n",
       "  <tbody>\n",
       "    <tr>\n",
       "      <th>-</th>\n",
       "      <td>14.0</td>\n",
       "      <td>128.642857</td>\n",
       "      <td>107.270045</td>\n",
       "      <td>39.0</td>\n",
       "      <td>70.25</td>\n",
       "      <td>94.0</td>\n",
       "      <td>128.75</td>\n",
       "      <td>383.0</td>\n",
       "    </tr>\n",
       "    <tr>\n",
       "      <th>Female</th>\n",
       "      <td>142.0</td>\n",
       "      <td>78.838028</td>\n",
       "      <td>76.975877</td>\n",
       "      <td>41.0</td>\n",
       "      <td>54.00</td>\n",
       "      <td>58.0</td>\n",
       "      <td>65.00</td>\n",
       "      <td>630.0</td>\n",
       "    </tr>\n",
       "    <tr>\n",
       "      <th>Male</th>\n",
       "      <td>338.0</td>\n",
       "      <td>125.698225</td>\n",
       "      <td>110.961822</td>\n",
       "      <td>2.0</td>\n",
       "      <td>79.00</td>\n",
       "      <td>90.0</td>\n",
       "      <td>122.00</td>\n",
       "      <td>900.0</td>\n",
       "    </tr>\n",
       "  </tbody>\n",
       "</table>\n",
       "</div>"
      ],
      "text/plain": [
       "        count        mean         std   min    25%   50%     75%    max\n",
       "Gender                                                                 \n",
       "-        14.0  128.642857  107.270045  39.0  70.25  94.0  128.75  383.0\n",
       "Female  142.0   78.838028   76.975877  41.0  54.00  58.0   65.00  630.0\n",
       "Male    338.0  125.698225  110.961822   2.0  79.00  90.0  122.00  900.0"
      ]
     },
     "execution_count": 15,
     "metadata": {},
     "output_type": "execute_result"
    }
   ],
   "source": [
    "real_weights=heroes_df.loc[heroes_df[\"Weight\"]!=-99]\n",
    "real_weights.groupby([\"Gender\"])[\"Weight\"].describe() #getting the stats for the actual weights w/o being influenced by -99.0"
   ]
  },
  {
   "cell_type": "markdown",
   "metadata": {},
   "source": [
    "It looks like there's a connection between gender and weight so I'm going to impute the values for weight based on the gender.  If the gender is `-`, I'm not going to change the weight for now. If the gender is `Female`, I'll assign the median value of `58.0` and if the gender is `Male`, I'll assign the median value of `90.0`."
   ]
  },
  {
   "cell_type": "code",
   "execution_count": 16,
   "metadata": {
    "scrolled": false
   },
   "outputs": [
    {
     "data": {
      "text/html": [
       "<div>\n",
       "<style scoped>\n",
       "    .dataframe tbody tr th:only-of-type {\n",
       "        vertical-align: middle;\n",
       "    }\n",
       "\n",
       "    .dataframe tbody tr th {\n",
       "        vertical-align: top;\n",
       "    }\n",
       "\n",
       "    .dataframe thead th {\n",
       "        text-align: right;\n",
       "    }\n",
       "</style>\n",
       "<table border=\"1\" class=\"dataframe\">\n",
       "  <thead>\n",
       "    <tr style=\"text-align: right;\">\n",
       "      <th></th>\n",
       "      <th>name</th>\n",
       "      <th>Gender</th>\n",
       "      <th>Eye color</th>\n",
       "      <th>Race</th>\n",
       "      <th>Hair color</th>\n",
       "      <th>Height</th>\n",
       "      <th>Publisher</th>\n",
       "      <th>Skin color</th>\n",
       "      <th>Alignment</th>\n",
       "      <th>Weight</th>\n",
       "    </tr>\n",
       "  </thead>\n",
       "  <tbody>\n",
       "    <tr>\n",
       "      <th>87</th>\n",
       "      <td>Bird-Brain</td>\n",
       "      <td>-</td>\n",
       "      <td>-</td>\n",
       "      <td>-</td>\n",
       "      <td>-</td>\n",
       "      <td>-99.0</td>\n",
       "      <td>Marvel Comics</td>\n",
       "      <td>-</td>\n",
       "      <td>good</td>\n",
       "      <td>-99.0</td>\n",
       "    </tr>\n",
       "    <tr>\n",
       "      <th>112</th>\n",
       "      <td>Blaquesmith</td>\n",
       "      <td>-</td>\n",
       "      <td>black</td>\n",
       "      <td>-</td>\n",
       "      <td>No Hair</td>\n",
       "      <td>-99.0</td>\n",
       "      <td>Marvel Comics</td>\n",
       "      <td>-</td>\n",
       "      <td>good</td>\n",
       "      <td>-99.0</td>\n",
       "    </tr>\n",
       "    <tr>\n",
       "      <th>134</th>\n",
       "      <td>Box IV</td>\n",
       "      <td>-</td>\n",
       "      <td>brown</td>\n",
       "      <td>-</td>\n",
       "      <td>Brown / Black</td>\n",
       "      <td>-99.0</td>\n",
       "      <td>Marvel Comics</td>\n",
       "      <td>-</td>\n",
       "      <td>good</td>\n",
       "      <td>-99.0</td>\n",
       "    </tr>\n",
       "    <tr>\n",
       "      <th>160</th>\n",
       "      <td>Captain Universe</td>\n",
       "      <td>-</td>\n",
       "      <td>-</td>\n",
       "      <td>God / Eternal</td>\n",
       "      <td>-</td>\n",
       "      <td>-99.0</td>\n",
       "      <td>Marvel Comics</td>\n",
       "      <td>-</td>\n",
       "      <td>good</td>\n",
       "      <td>-99.0</td>\n",
       "    </tr>\n",
       "    <tr>\n",
       "      <th>178</th>\n",
       "      <td>Clea</td>\n",
       "      <td>-</td>\n",
       "      <td>-</td>\n",
       "      <td>-</td>\n",
       "      <td>White</td>\n",
       "      <td>-99.0</td>\n",
       "      <td>Marvel Comics</td>\n",
       "      <td>-</td>\n",
       "      <td>good</td>\n",
       "      <td>-99.0</td>\n",
       "    </tr>\n",
       "    <tr>\n",
       "      <th>234</th>\n",
       "      <td>Ego</td>\n",
       "      <td>-</td>\n",
       "      <td>-</td>\n",
       "      <td>-</td>\n",
       "      <td>-</td>\n",
       "      <td>-99.0</td>\n",
       "      <td>Marvel Comics</td>\n",
       "      <td>-</td>\n",
       "      <td>bad</td>\n",
       "      <td>-99.0</td>\n",
       "    </tr>\n",
       "    <tr>\n",
       "      <th>261</th>\n",
       "      <td>Fixer</td>\n",
       "      <td>-</td>\n",
       "      <td>red</td>\n",
       "      <td>-</td>\n",
       "      <td>No Hair</td>\n",
       "      <td>-99.0</td>\n",
       "      <td>Marvel Comics</td>\n",
       "      <td>-</td>\n",
       "      <td>bad</td>\n",
       "      <td>-99.0</td>\n",
       "    </tr>\n",
       "    <tr>\n",
       "      <th>280</th>\n",
       "      <td>Ghost Rider II</td>\n",
       "      <td>-</td>\n",
       "      <td>-</td>\n",
       "      <td>-</td>\n",
       "      <td>-</td>\n",
       "      <td>-99.0</td>\n",
       "      <td>Marvel Comics</td>\n",
       "      <td>-</td>\n",
       "      <td>good</td>\n",
       "      <td>-99.0</td>\n",
       "    </tr>\n",
       "    <tr>\n",
       "      <th>410</th>\n",
       "      <td>Living Tribunal</td>\n",
       "      <td>-</td>\n",
       "      <td>blue</td>\n",
       "      <td>Cosmic Entity</td>\n",
       "      <td>No Hair</td>\n",
       "      <td>-99.0</td>\n",
       "      <td>Marvel Comics</td>\n",
       "      <td>gold</td>\n",
       "      <td>neutral</td>\n",
       "      <td>-99.0</td>\n",
       "    </tr>\n",
       "    <tr>\n",
       "      <th>426</th>\n",
       "      <td>Man of Miracles</td>\n",
       "      <td>-</td>\n",
       "      <td>blue</td>\n",
       "      <td>God / Eternal</td>\n",
       "      <td>Silver</td>\n",
       "      <td>-99.0</td>\n",
       "      <td>Image Comics</td>\n",
       "      <td>-</td>\n",
       "      <td>-</td>\n",
       "      <td>-99.0</td>\n",
       "    </tr>\n",
       "    <tr>\n",
       "      <th>503</th>\n",
       "      <td>One-Above-All</td>\n",
       "      <td>-</td>\n",
       "      <td>-</td>\n",
       "      <td>Cosmic Entity</td>\n",
       "      <td>-</td>\n",
       "      <td>-99.0</td>\n",
       "      <td>Marvel Comics</td>\n",
       "      <td>-</td>\n",
       "      <td>neutral</td>\n",
       "      <td>-99.0</td>\n",
       "    </tr>\n",
       "    <tr>\n",
       "      <th>509</th>\n",
       "      <td>Parademon</td>\n",
       "      <td>-</td>\n",
       "      <td>-</td>\n",
       "      <td>Parademon</td>\n",
       "      <td>-</td>\n",
       "      <td>-99.0</td>\n",
       "      <td>DC Comics</td>\n",
       "      <td>-</td>\n",
       "      <td>bad</td>\n",
       "      <td>-99.0</td>\n",
       "    </tr>\n",
       "    <tr>\n",
       "      <th>511</th>\n",
       "      <td>Penance</td>\n",
       "      <td>-</td>\n",
       "      <td>-</td>\n",
       "      <td>-</td>\n",
       "      <td>-</td>\n",
       "      <td>-99.0</td>\n",
       "      <td>Marvel Comics</td>\n",
       "      <td>-</td>\n",
       "      <td>good</td>\n",
       "      <td>-99.0</td>\n",
       "    </tr>\n",
       "  </tbody>\n",
       "</table>\n",
       "</div>"
      ],
      "text/plain": [
       "                 name Gender Eye color           Race     Hair color  Height  \\\n",
       "87         Bird-Brain      -         -              -              -   -99.0   \n",
       "112       Blaquesmith      -     black              -        No Hair   -99.0   \n",
       "134            Box IV      -     brown              -  Brown / Black   -99.0   \n",
       "160  Captain Universe      -         -  God / Eternal              -   -99.0   \n",
       "178              Clea      -         -              -          White   -99.0   \n",
       "234               Ego      -         -              -              -   -99.0   \n",
       "261             Fixer      -       red              -        No Hair   -99.0   \n",
       "280    Ghost Rider II      -         -              -              -   -99.0   \n",
       "410   Living Tribunal      -      blue  Cosmic Entity        No Hair   -99.0   \n",
       "426   Man of Miracles      -      blue  God / Eternal         Silver   -99.0   \n",
       "503     One-Above-All      -         -  Cosmic Entity              -   -99.0   \n",
       "509         Parademon      -         -      Parademon              -   -99.0   \n",
       "511           Penance      -         -              -              -   -99.0   \n",
       "\n",
       "         Publisher Skin color Alignment  Weight  \n",
       "87   Marvel Comics          -      good   -99.0  \n",
       "112  Marvel Comics          -      good   -99.0  \n",
       "134  Marvel Comics          -      good   -99.0  \n",
       "160  Marvel Comics          -      good   -99.0  \n",
       "178  Marvel Comics          -      good   -99.0  \n",
       "234  Marvel Comics          -       bad   -99.0  \n",
       "261  Marvel Comics          -       bad   -99.0  \n",
       "280  Marvel Comics          -      good   -99.0  \n",
       "410  Marvel Comics       gold   neutral   -99.0  \n",
       "426   Image Comics          -         -   -99.0  \n",
       "503  Marvel Comics          -   neutral   -99.0  \n",
       "509      DC Comics          -       bad   -99.0  \n",
       "511  Marvel Comics          -      good   -99.0  "
      ]
     },
     "execution_count": 16,
     "metadata": {},
     "output_type": "execute_result"
    }
   ],
   "source": [
    "heroes_df.loc[(heroes_df[\"Weight\"]==-99)&(heroes_df[\"Gender\"]==\"Female\"),\"Weight\"]=58.0\n",
    "heroes_df.loc[(heroes_df[\"Weight\"]==-99)&(heroes_df[\"Gender\"]==\"Male\"),\"Weight\"]=90.0\n",
    "heroes_df.loc[(heroes_df[\"Weight\"]==-99)]"
   ]
  },
  {
   "cell_type": "code",
   "execution_count": 17,
   "metadata": {
    "scrolled": true
   },
   "outputs": [
    {
     "data": {
      "text/html": [
       "<div>\n",
       "<style scoped>\n",
       "    .dataframe tbody tr th:only-of-type {\n",
       "        vertical-align: middle;\n",
       "    }\n",
       "\n",
       "    .dataframe tbody tr th {\n",
       "        vertical-align: top;\n",
       "    }\n",
       "\n",
       "    .dataframe thead th {\n",
       "        text-align: right;\n",
       "    }\n",
       "</style>\n",
       "<table border=\"1\" class=\"dataframe\">\n",
       "  <thead>\n",
       "    <tr style=\"text-align: right;\">\n",
       "      <th></th>\n",
       "      <th>count</th>\n",
       "      <th>mean</th>\n",
       "      <th>std</th>\n",
       "      <th>min</th>\n",
       "      <th>25%</th>\n",
       "      <th>50%</th>\n",
       "      <th>75%</th>\n",
       "      <th>max</th>\n",
       "    </tr>\n",
       "    <tr>\n",
       "      <th>Gender</th>\n",
       "      <th></th>\n",
       "      <th></th>\n",
       "      <th></th>\n",
       "      <th></th>\n",
       "      <th></th>\n",
       "      <th></th>\n",
       "      <th></th>\n",
       "      <th></th>\n",
       "    </tr>\n",
       "  </thead>\n",
       "  <tbody>\n",
       "    <tr>\n",
       "      <th>-</th>\n",
       "      <td>27.0</td>\n",
       "      <td>19.037037</td>\n",
       "      <td>138.522834</td>\n",
       "      <td>-99.0</td>\n",
       "      <td>-99.00</td>\n",
       "      <td>39.0</td>\n",
       "      <td>94.0</td>\n",
       "      <td>383.0</td>\n",
       "    </tr>\n",
       "    <tr>\n",
       "      <th>Female</th>\n",
       "      <td>198.0</td>\n",
       "      <td>72.944444</td>\n",
       "      <td>65.798662</td>\n",
       "      <td>41.0</td>\n",
       "      <td>55.00</td>\n",
       "      <td>58.0</td>\n",
       "      <td>61.0</td>\n",
       "      <td>630.0</td>\n",
       "    </tr>\n",
       "    <tr>\n",
       "      <th>Male</th>\n",
       "      <td>494.0</td>\n",
       "      <td>114.425101</td>\n",
       "      <td>93.232927</td>\n",
       "      <td>2.0</td>\n",
       "      <td>82.25</td>\n",
       "      <td>90.0</td>\n",
       "      <td>101.0</td>\n",
       "      <td>900.0</td>\n",
       "    </tr>\n",
       "  </tbody>\n",
       "</table>\n",
       "</div>"
      ],
      "text/plain": [
       "        count        mean         std   min    25%   50%    75%    max\n",
       "Gender                                                                \n",
       "-        27.0   19.037037  138.522834 -99.0 -99.00  39.0   94.0  383.0\n",
       "Female  198.0   72.944444   65.798662  41.0  55.00  58.0   61.0  630.0\n",
       "Male    494.0  114.425101   93.232927   2.0  82.25  90.0  101.0  900.0"
      ]
     },
     "execution_count": 17,
     "metadata": {},
     "output_type": "execute_result"
    }
   ],
   "source": [
    "heroes_df.groupby([\"Gender\"])[\"Weight\"].describe()"
   ]
  },
  {
   "cell_type": "markdown",
   "metadata": {},
   "source": [
    "The male and female placeholder weights have been fixed (because the minimums are no longer listed as being -99). "
   ]
  },
  {
   "cell_type": "code",
   "execution_count": 18,
   "metadata": {
    "scrolled": true
   },
   "outputs": [
    {
     "data": {
      "text/plain": [
       "<matplotlib.axes._subplots.AxesSubplot at 0x1a2cc2e0cf8>"
      ]
     },
     "execution_count": 18,
     "metadata": {},
     "output_type": "execute_result"
    },
    {
     "data": {
      "image/png": "[encoded data removed]",
      "text/plain": [
       "<Figure size 432x288 with 1 Axes>"
      ]
     },
     "metadata": {
      "needs_background": "light"
     },
     "output_type": "display_data"
    }
   ],
   "source": [
    "heroes_df.Weight.hist()"
   ]
  },
  {
   "cell_type": "markdown",
   "metadata": {},
   "source": [
    "The histogram has definitely changed shape - the peak between 0 and 100 has gotten a lot taller now that the placeholder values have been reassigned.  The variance has decreased as well."
   ]
  },
  {
   "cell_type": "markdown",
   "metadata": {},
   "source": [
    "Next, I'll do the same thing for height.  First, I need to figure out what the median heights are by gender and then I'll reassign the placeholder value to those median values."
   ]
  },
  {
   "cell_type": "code",
   "execution_count": 19,
   "metadata": {
    "scrolled": true
   },
   "outputs": [
    {
     "data": {
      "text/html": [
       "<div>\n",
       "<style scoped>\n",
       "    .dataframe tbody tr th:only-of-type {\n",
       "        vertical-align: middle;\n",
       "    }\n",
       "\n",
       "    .dataframe tbody tr th {\n",
       "        vertical-align: top;\n",
       "    }\n",
       "\n",
       "    .dataframe thead th {\n",
       "        text-align: right;\n",
       "    }\n",
       "</style>\n",
       "<table border=\"1\" class=\"dataframe\">\n",
       "  <thead>\n",
       "    <tr style=\"text-align: right;\">\n",
       "      <th></th>\n",
       "      <th>count</th>\n",
       "      <th>mean</th>\n",
       "      <th>std</th>\n",
       "      <th>min</th>\n",
       "      <th>25%</th>\n",
       "      <th>50%</th>\n",
       "      <th>75%</th>\n",
       "      <th>max</th>\n",
       "    </tr>\n",
       "    <tr>\n",
       "      <th>Gender</th>\n",
       "      <th></th>\n",
       "      <th></th>\n",
       "      <th></th>\n",
       "      <th></th>\n",
       "      <th></th>\n",
       "      <th></th>\n",
       "      <th></th>\n",
       "      <th></th>\n",
       "    </tr>\n",
       "  </thead>\n",
       "  <tbody>\n",
       "    <tr>\n",
       "      <th>-</th>\n",
       "      <td>14.0</td>\n",
       "      <td>182.000000</td>\n",
       "      <td>14.790850</td>\n",
       "      <td>140.0</td>\n",
       "      <td>175.75</td>\n",
       "      <td>184.0</td>\n",
       "      <td>192.5</td>\n",
       "      <td>198.0</td>\n",
       "    </tr>\n",
       "    <tr>\n",
       "      <th>Female</th>\n",
       "      <td>144.0</td>\n",
       "      <td>174.684028</td>\n",
       "      <td>23.697817</td>\n",
       "      <td>62.5</td>\n",
       "      <td>168.00</td>\n",
       "      <td>170.0</td>\n",
       "      <td>178.0</td>\n",
       "      <td>366.0</td>\n",
       "    </tr>\n",
       "    <tr>\n",
       "      <th>Male</th>\n",
       "      <td>353.0</td>\n",
       "      <td>192.576487</td>\n",
       "      <td>68.755000</td>\n",
       "      <td>15.2</td>\n",
       "      <td>180.00</td>\n",
       "      <td>185.0</td>\n",
       "      <td>193.0</td>\n",
       "      <td>975.0</td>\n",
       "    </tr>\n",
       "  </tbody>\n",
       "</table>\n",
       "</div>"
      ],
      "text/plain": [
       "        count        mean        std    min     25%    50%    75%    max\n",
       "Gender                                                                  \n",
       "-        14.0  182.000000  14.790850  140.0  175.75  184.0  192.5  198.0\n",
       "Female  144.0  174.684028  23.697817   62.5  168.00  170.0  178.0  366.0\n",
       "Male    353.0  192.576487  68.755000   15.2  180.00  185.0  193.0  975.0"
      ]
     },
     "execution_count": 19,
     "metadata": {},
     "output_type": "execute_result"
    }
   ],
   "source": [
    "real_heights=heroes_df.loc[heroes_df[\"Height\"]!=-99]\n",
    "real_heights.groupby([\"Gender\"])[\"Height\"].describe() #getting the stats for the actual heights w/o being influenced by -99.0"
   ]
  },
  {
   "cell_type": "code",
   "execution_count": 20,
   "metadata": {},
   "outputs": [
    {
     "data": {
      "text/html": [
       "<div>\n",
       "<style scoped>\n",
       "    .dataframe tbody tr th:only-of-type {\n",
       "        vertical-align: middle;\n",
       "    }\n",
       "\n",
       "    .dataframe tbody tr th {\n",
       "        vertical-align: top;\n",
       "    }\n",
       "\n",
       "    .dataframe thead th {\n",
       "        text-align: right;\n",
       "    }\n",
       "</style>\n",
       "<table border=\"1\" class=\"dataframe\">\n",
       "  <thead>\n",
       "    <tr style=\"text-align: right;\">\n",
       "      <th></th>\n",
       "      <th>name</th>\n",
       "      <th>Gender</th>\n",
       "      <th>Eye color</th>\n",
       "      <th>Race</th>\n",
       "      <th>Hair color</th>\n",
       "      <th>Height</th>\n",
       "      <th>Publisher</th>\n",
       "      <th>Skin color</th>\n",
       "      <th>Alignment</th>\n",
       "      <th>Weight</th>\n",
       "    </tr>\n",
       "  </thead>\n",
       "  <tbody>\n",
       "    <tr>\n",
       "      <th>87</th>\n",
       "      <td>Bird-Brain</td>\n",
       "      <td>-</td>\n",
       "      <td>-</td>\n",
       "      <td>-</td>\n",
       "      <td>-</td>\n",
       "      <td>-99.0</td>\n",
       "      <td>Marvel Comics</td>\n",
       "      <td>-</td>\n",
       "      <td>good</td>\n",
       "      <td>-99.0</td>\n",
       "    </tr>\n",
       "    <tr>\n",
       "      <th>112</th>\n",
       "      <td>Blaquesmith</td>\n",
       "      <td>-</td>\n",
       "      <td>black</td>\n",
       "      <td>-</td>\n",
       "      <td>No Hair</td>\n",
       "      <td>-99.0</td>\n",
       "      <td>Marvel Comics</td>\n",
       "      <td>-</td>\n",
       "      <td>good</td>\n",
       "      <td>-99.0</td>\n",
       "    </tr>\n",
       "    <tr>\n",
       "      <th>134</th>\n",
       "      <td>Box IV</td>\n",
       "      <td>-</td>\n",
       "      <td>brown</td>\n",
       "      <td>-</td>\n",
       "      <td>Brown / Black</td>\n",
       "      <td>-99.0</td>\n",
       "      <td>Marvel Comics</td>\n",
       "      <td>-</td>\n",
       "      <td>good</td>\n",
       "      <td>-99.0</td>\n",
       "    </tr>\n",
       "    <tr>\n",
       "      <th>160</th>\n",
       "      <td>Captain Universe</td>\n",
       "      <td>-</td>\n",
       "      <td>-</td>\n",
       "      <td>God / Eternal</td>\n",
       "      <td>-</td>\n",
       "      <td>-99.0</td>\n",
       "      <td>Marvel Comics</td>\n",
       "      <td>-</td>\n",
       "      <td>good</td>\n",
       "      <td>-99.0</td>\n",
       "    </tr>\n",
       "    <tr>\n",
       "      <th>178</th>\n",
       "      <td>Clea</td>\n",
       "      <td>-</td>\n",
       "      <td>-</td>\n",
       "      <td>-</td>\n",
       "      <td>White</td>\n",
       "      <td>-99.0</td>\n",
       "      <td>Marvel Comics</td>\n",
       "      <td>-</td>\n",
       "      <td>good</td>\n",
       "      <td>-99.0</td>\n",
       "    </tr>\n",
       "    <tr>\n",
       "      <th>234</th>\n",
       "      <td>Ego</td>\n",
       "      <td>-</td>\n",
       "      <td>-</td>\n",
       "      <td>-</td>\n",
       "      <td>-</td>\n",
       "      <td>-99.0</td>\n",
       "      <td>Marvel Comics</td>\n",
       "      <td>-</td>\n",
       "      <td>bad</td>\n",
       "      <td>-99.0</td>\n",
       "    </tr>\n",
       "    <tr>\n",
       "      <th>261</th>\n",
       "      <td>Fixer</td>\n",
       "      <td>-</td>\n",
       "      <td>red</td>\n",
       "      <td>-</td>\n",
       "      <td>No Hair</td>\n",
       "      <td>-99.0</td>\n",
       "      <td>Marvel Comics</td>\n",
       "      <td>-</td>\n",
       "      <td>bad</td>\n",
       "      <td>-99.0</td>\n",
       "    </tr>\n",
       "    <tr>\n",
       "      <th>280</th>\n",
       "      <td>Ghost Rider II</td>\n",
       "      <td>-</td>\n",
       "      <td>-</td>\n",
       "      <td>-</td>\n",
       "      <td>-</td>\n",
       "      <td>-99.0</td>\n",
       "      <td>Marvel Comics</td>\n",
       "      <td>-</td>\n",
       "      <td>good</td>\n",
       "      <td>-99.0</td>\n",
       "    </tr>\n",
       "    <tr>\n",
       "      <th>410</th>\n",
       "      <td>Living Tribunal</td>\n",
       "      <td>-</td>\n",
       "      <td>blue</td>\n",
       "      <td>Cosmic Entity</td>\n",
       "      <td>No Hair</td>\n",
       "      <td>-99.0</td>\n",
       "      <td>Marvel Comics</td>\n",
       "      <td>gold</td>\n",
       "      <td>neutral</td>\n",
       "      <td>-99.0</td>\n",
       "    </tr>\n",
       "    <tr>\n",
       "      <th>426</th>\n",
       "      <td>Man of Miracles</td>\n",
       "      <td>-</td>\n",
       "      <td>blue</td>\n",
       "      <td>God / Eternal</td>\n",
       "      <td>Silver</td>\n",
       "      <td>-99.0</td>\n",
       "      <td>Image Comics</td>\n",
       "      <td>-</td>\n",
       "      <td>-</td>\n",
       "      <td>-99.0</td>\n",
       "    </tr>\n",
       "    <tr>\n",
       "      <th>503</th>\n",
       "      <td>One-Above-All</td>\n",
       "      <td>-</td>\n",
       "      <td>-</td>\n",
       "      <td>Cosmic Entity</td>\n",
       "      <td>-</td>\n",
       "      <td>-99.0</td>\n",
       "      <td>Marvel Comics</td>\n",
       "      <td>-</td>\n",
       "      <td>neutral</td>\n",
       "      <td>-99.0</td>\n",
       "    </tr>\n",
       "    <tr>\n",
       "      <th>509</th>\n",
       "      <td>Parademon</td>\n",
       "      <td>-</td>\n",
       "      <td>-</td>\n",
       "      <td>Parademon</td>\n",
       "      <td>-</td>\n",
       "      <td>-99.0</td>\n",
       "      <td>DC Comics</td>\n",
       "      <td>-</td>\n",
       "      <td>bad</td>\n",
       "      <td>-99.0</td>\n",
       "    </tr>\n",
       "    <tr>\n",
       "      <th>511</th>\n",
       "      <td>Penance</td>\n",
       "      <td>-</td>\n",
       "      <td>-</td>\n",
       "      <td>-</td>\n",
       "      <td>-</td>\n",
       "      <td>-99.0</td>\n",
       "      <td>Marvel Comics</td>\n",
       "      <td>-</td>\n",
       "      <td>good</td>\n",
       "      <td>-99.0</td>\n",
       "    </tr>\n",
       "  </tbody>\n",
       "</table>\n",
       "</div>"
      ],
      "text/plain": [
       "                 name Gender Eye color           Race     Hair color  Height  \\\n",
       "87         Bird-Brain      -         -              -              -   -99.0   \n",
       "112       Blaquesmith      -     black              -        No Hair   -99.0   \n",
       "134            Box IV      -     brown              -  Brown / Black   -99.0   \n",
       "160  Captain Universe      -         -  God / Eternal              -   -99.0   \n",
       "178              Clea      -         -              -          White   -99.0   \n",
       "234               Ego      -         -              -              -   -99.0   \n",
       "261             Fixer      -       red              -        No Hair   -99.0   \n",
       "280    Ghost Rider II      -         -              -              -   -99.0   \n",
       "410   Living Tribunal      -      blue  Cosmic Entity        No Hair   -99.0   \n",
       "426   Man of Miracles      -      blue  God / Eternal         Silver   -99.0   \n",
       "503     One-Above-All      -         -  Cosmic Entity              -   -99.0   \n",
       "509         Parademon      -         -      Parademon              -   -99.0   \n",
       "511           Penance      -         -              -              -   -99.0   \n",
       "\n",
       "         Publisher Skin color Alignment  Weight  \n",
       "87   Marvel Comics          -      good   -99.0  \n",
       "112  Marvel Comics          -      good   -99.0  \n",
       "134  Marvel Comics          -      good   -99.0  \n",
       "160  Marvel Comics          -      good   -99.0  \n",
       "178  Marvel Comics          -      good   -99.0  \n",
       "234  Marvel Comics          -       bad   -99.0  \n",
       "261  Marvel Comics          -       bad   -99.0  \n",
       "280  Marvel Comics          -      good   -99.0  \n",
       "410  Marvel Comics       gold   neutral   -99.0  \n",
       "426   Image Comics          -         -   -99.0  \n",
       "503  Marvel Comics          -   neutral   -99.0  \n",
       "509      DC Comics          -       bad   -99.0  \n",
       "511  Marvel Comics          -      good   -99.0  "
      ]
     },
     "execution_count": 20,
     "metadata": {},
     "output_type": "execute_result"
    }
   ],
   "source": [
    "heroes_df.loc[(heroes_df[\"Height\"]==-99)&(heroes_df[\"Gender\"]==\"Female\"),\"Height\"]=170.0\n",
    "heroes_df.loc[(heroes_df[\"Height\"]==-99)&(heroes_df[\"Gender\"]==\"Male\"),\"Height\"]=185.0\n",
    "heroes_df.loc[(heroes_df[\"Height\"]==-99)]"
   ]
  },
  {
   "cell_type": "code",
   "execution_count": 21,
   "metadata": {
    "scrolled": false
   },
   "outputs": [
    {
     "data": {
      "text/html": [
       "<div>\n",
       "<style scoped>\n",
       "    .dataframe tbody tr th:only-of-type {\n",
       "        vertical-align: middle;\n",
       "    }\n",
       "\n",
       "    .dataframe tbody tr th {\n",
       "        vertical-align: top;\n",
       "    }\n",
       "\n",
       "    .dataframe thead th {\n",
       "        text-align: right;\n",
       "    }\n",
       "</style>\n",
       "<table border=\"1\" class=\"dataframe\">\n",
       "  <thead>\n",
       "    <tr style=\"text-align: right;\">\n",
       "      <th></th>\n",
       "      <th>count</th>\n",
       "      <th>mean</th>\n",
       "      <th>std</th>\n",
       "      <th>min</th>\n",
       "      <th>25%</th>\n",
       "      <th>50%</th>\n",
       "      <th>75%</th>\n",
       "      <th>max</th>\n",
       "    </tr>\n",
       "    <tr>\n",
       "      <th>Gender</th>\n",
       "      <th></th>\n",
       "      <th></th>\n",
       "      <th></th>\n",
       "      <th></th>\n",
       "      <th></th>\n",
       "      <th></th>\n",
       "      <th></th>\n",
       "      <th></th>\n",
       "    </tr>\n",
       "  </thead>\n",
       "  <tbody>\n",
       "    <tr>\n",
       "      <th>-</th>\n",
       "      <td>27.0</td>\n",
       "      <td>46.703704</td>\n",
       "      <td>143.459942</td>\n",
       "      <td>-99.0</td>\n",
       "      <td>-99.0</td>\n",
       "      <td>140.0</td>\n",
       "      <td>184.0</td>\n",
       "      <td>198.0</td>\n",
       "    </tr>\n",
       "    <tr>\n",
       "      <th>Female</th>\n",
       "      <td>198.0</td>\n",
       "      <td>173.406566</td>\n",
       "      <td>20.298348</td>\n",
       "      <td>62.5</td>\n",
       "      <td>168.0</td>\n",
       "      <td>170.0</td>\n",
       "      <td>175.0</td>\n",
       "      <td>366.0</td>\n",
       "    </tr>\n",
       "    <tr>\n",
       "      <th>Male</th>\n",
       "      <td>494.0</td>\n",
       "      <td>190.413968</td>\n",
       "      <td>58.197671</td>\n",
       "      <td>15.2</td>\n",
       "      <td>183.0</td>\n",
       "      <td>185.0</td>\n",
       "      <td>188.0</td>\n",
       "      <td>975.0</td>\n",
       "    </tr>\n",
       "  </tbody>\n",
       "</table>\n",
       "</div>"
      ],
      "text/plain": [
       "        count        mean         std   min    25%    50%    75%    max\n",
       "Gender                                                                 \n",
       "-        27.0   46.703704  143.459942 -99.0  -99.0  140.0  184.0  198.0\n",
       "Female  198.0  173.406566   20.298348  62.5  168.0  170.0  175.0  366.0\n",
       "Male    494.0  190.413968   58.197671  15.2  183.0  185.0  188.0  975.0"
      ]
     },
     "execution_count": 21,
     "metadata": {},
     "output_type": "execute_result"
    }
   ],
   "source": [
    "heroes_df.groupby([\"Gender\"])[\"Height\"].describe()"
   ]
  },
  {
   "cell_type": "code",
   "execution_count": 22,
   "metadata": {
    "scrolled": false
   },
   "outputs": [
    {
     "data": {
      "text/plain": [
       "<matplotlib.axes._subplots.AxesSubplot at 0x1a2cc3bd828>"
      ]
     },
     "execution_count": 22,
     "metadata": {},
     "output_type": "execute_result"
    },
    {
     "data": {
      "image/png": "[encoded data removed]",
      "text/plain": [
       "<Figure size 432x288 with 1 Axes>"
      ]
     },
     "metadata": {
      "needs_background": "light"
     },
     "output_type": "display_data"
    }
   ],
   "source": [
    "heroes_df.Height.hist()"
   ]
  },
  {
   "cell_type": "code",
   "execution_count": 23,
   "metadata": {
    "scrolled": true
   },
   "outputs": [
    {
     "data": {
      "text/plain": [
       "13"
      ]
     },
     "execution_count": 23,
     "metadata": {},
     "output_type": "execute_result"
    }
   ],
   "source": [
    "len(heroes_df.loc[(heroes_df[\"Height\"]==-99.0)|(heroes_df[\"Weight\"]==-99.0)])"
   ]
  },
  {
   "cell_type": "markdown",
   "metadata": {},
   "source": [
    "Since there are only 13 rows remaining with placeholder values for height and/or weight, I'm just going to drop those rows now."
   ]
  },
  {
   "cell_type": "code",
   "execution_count": 24,
   "metadata": {},
   "outputs": [],
   "source": [
    "rows_to_drop=heroes_df.loc[(heroes_df[\"Height\"]==-99.0)|(heroes_df[\"Weight\"]==-99)].index\n",
    "heroes_df.drop(rows_to_drop,inplace=True)"
   ]
  },
  {
   "cell_type": "code",
   "execution_count": 25,
   "metadata": {
    "scrolled": true
   },
   "outputs": [
    {
     "data": {
      "text/plain": [
       "0"
      ]
     },
     "execution_count": 25,
     "metadata": {},
     "output_type": "execute_result"
    }
   ],
   "source": [
    "len(heroes_df.loc[(heroes_df[\"Height\"]==-99.0)|(heroes_df[\"Weight\"]==-99.0)])"
   ]
  },
  {
   "cell_type": "markdown",
   "metadata": {},
   "source": [
    "Now we have to deal with the values that are listed as `'-'`.  Let's see how many there are in each column."
   ]
  },
  {
   "cell_type": "code",
   "execution_count": 26,
   "metadata": {
    "scrolled": true
   },
   "outputs": [
    {
     "name": "stdout",
     "output_type": "stream",
     "text": [
      "name has '-' for 0% of its values.\n",
      "Gender has '-' for 2% of its values.\n",
      "Eye color has '-' for 22% of its values.\n",
      "Race has '-' for 41% of its values.\n",
      "Hair color has '-' for 22% of its values.\n",
      "Height has '-' for 0% of its values.\n",
      "Publisher has '-' for 0% of its values.\n",
      "Skin color has '-' for 90% of its values.\n",
      "Alignment has '-' for 1% of its values.\n",
      "Weight has '-' for 0% of its values.\n"
     ]
    },
    {
     "name": "stderr",
     "output_type": "stream",
     "text": [
      "C:\\Users\\alvar\\AppData\\Local\\Continuum\\anaconda3\\lib\\site-packages\\pandas\\core\\ops.py:1649: FutureWarning: elementwise comparison failed; returning scalar instead, but in the future will perform elementwise comparison\n",
      "  result = method(y)\n"
     ]
    }
   ],
   "source": [
    "for col in heroes_df:\n",
    "    print(f\"{col} has '-' for {round(len(heroes_df.loc[heroes_df[col]=='-'])/len(heroes_df[col])*100)}% of its values.\")"
   ]
  },
  {
   "cell_type": "markdown",
   "metadata": {},
   "source": [
    "Since skin color is missing 90% of its values, it might be worthwhile to drop that column.  However, I think I'm going to keep everything the way it is now because it seems like having `'-'` as a value doesn't affect Python's ability to graph, calculate statistics, or perform other operations.  Just to verify that, I'm going to make a bargraph of the skin color data."
   ]
  },
  {
   "cell_type": "code",
   "execution_count": 27,
   "metadata": {
    "scrolled": true
   },
   "outputs": [
    {
     "data": {
      "text/plain": [
       "<matplotlib.axes._subplots.AxesSubplot at 0x1a2cc47d518>"
      ]
     },
     "execution_count": 27,
     "metadata": {},
     "output_type": "execute_result"
    },
    {
     "data": {
      "image/png": "[encoded data removed]",
      "text/plain": [
       "<Figure size 432x288 with 1 Axes>"
      ]
     },
     "metadata": {
      "needs_background": "light"
     },
     "output_type": "display_data"
    }
   ],
   "source": [
    "heroes_df[\"Skin color\"].value_counts().plot(kind=\"bar\")"
   ]
  },
  {
   "cell_type": "markdown",
   "metadata": {},
   "source": [
    "So, `'-'` will show up as a category but I'm hesitant to lose all the other data.  So, I'm just going to graph the data that we do have instead (which is almost the same as deleting the rows with missing data, except I'm not actually deleting them - just ignoring them for a second)."
   ]
  },
  {
   "cell_type": "code",
   "execution_count": 28,
   "metadata": {
    "scrolled": true
   },
   "outputs": [
    {
     "data": {
      "text/plain": [
       "<matplotlib.axes._subplots.AxesSubplot at 0x1a2cc528f98>"
      ]
     },
     "execution_count": 28,
     "metadata": {},
     "output_type": "execute_result"
    },
    {
     "data": {
      "image/png": "[encoded data removed]",
      "text/plain": [
       "<Figure size 432x288 with 1 Axes>"
      ]
     },
     "metadata": {
      "needs_background": "light"
     },
     "output_type": "display_data"
    }
   ],
   "source": [
    "real_skin_colors=heroes_df.loc[heroes_df[\"Skin color\"]!='-']\n",
    "real_skin_colors[\"Skin color\"].value_counts().plot(kind=\"bar\")"
   ]
  },
  {
   "cell_type": "markdown",
   "metadata": {},
   "source": [
    "That's way better.  We just have to be aware that, when we look at this graph, it's only a subset (and potentially not representative) of the population.\n",
    "\n",
    "We can treat the other columns (that have `'-'` in them) similarly."
   ]
  },
  {
   "cell_type": "code",
   "execution_count": 29,
   "metadata": {},
   "outputs": [
    {
     "data": {
      "text/plain": [
       "Text(0.5, 0, 'Hair Color')"
      ]
     },
     "execution_count": 29,
     "metadata": {},
     "output_type": "execute_result"
    },
    {
     "data": {
      "image/png": "[encoded data removed]",
      "text/plain": [
       "<Figure size 1440x720 with 2 Axes>"
      ]
     },
     "metadata": {
      "needs_background": "light"
     },
     "output_type": "display_data"
    }
   ],
   "source": [
    "fig, (ax11, ax12) = plt.subplots(1, 2)\n",
    "\n",
    "real_eye_colors=heroes_df.loc[heroes_df[\"Eye color\"]!='-'][\"Eye color\"].value_counts()\n",
    "real_race=heroes_df.loc[heroes_df[\"Hair color\"]!='-'][\"Hair color\"].value_counts()\n",
    "\n",
    "real_eye_colors.plot(kind=\"barh\",ax=ax11, figsize=(20,10))\n",
    "real_race.plot(kind=\"barh\",ax=ax12)\n",
    "\n",
    "ax11.xaxis.set_label_text(\"Eye Color\")\n",
    "ax12.xaxis.set_label_text(\"Hair Color\")"
   ]
  },
  {
   "cell_type": "code",
   "execution_count": 30,
   "metadata": {},
   "outputs": [
    {
     "data": {
      "text/plain": [
       "Text(0.5, 0, 'Alignment')"
      ]
     },
     "execution_count": 30,
     "metadata": {},
     "output_type": "execute_result"
    },
    {
     "data": {
      "image/png": "[encoded data removed]",
      "text/plain": [
       "<Figure size 1440x720 with 2 Axes>"
      ]
     },
     "metadata": {
      "needs_background": "light"
     },
     "output_type": "display_data"
    }
   ],
   "source": [
    "fig, (ax21, ax22) = plt.subplots(1, 2)\n",
    "\n",
    "real_race=heroes_df.loc[heroes_df[\"Race\"]!='-'][\"Race\"].value_counts()\n",
    "real_alignment=heroes_df.loc[heroes_df[\"Alignment\"]!='-'][\"Alignment\"].value_counts()\n",
    "\n",
    "real_race.plot(kind=\"barh\",ax=ax21,figsize=(20,10))\n",
    "real_alignment.plot(kind=\"bar\",ax=ax22)\n",
    "\n",
    "ax21.xaxis.set_label_text(\"Race\")\n",
    "ax22.xaxis.set_label_text(\"Alignment\")"
   ]
  },
  {
   "cell_type": "markdown",
   "metadata": {},
   "source": [
    "Now, I'm going to move over to the other file `powers_df` and clean it up."
   ]
  },
  {
   "cell_type": "code",
   "execution_count": 32,
   "metadata": {},
   "outputs": [
    {
     "data": {
      "text/plain": [
       "0"
      ]
     },
     "execution_count": 32,
     "metadata": {},
     "output_type": "execute_result"
    }
   ],
   "source": [
    "powers_df.isna().sum().sum() #adding all of the NaN sums together to see if there are any categories with NaN that I can't see\n",
    "#since it equals 0, that means none of the columns are missing data.\n",
    "#There still might be some inaccurate data though (placeholders, etc)"
   ]
  },
  {
   "cell_type": "code",
   "execution_count": 33,
   "metadata": {
    "scrolled": true
   },
   "outputs": [
    {
     "data": {
      "text/plain": [
       "hero_names               object\n",
       "Agility                    bool\n",
       "Accelerated Healing        bool\n",
       "Lantern Power Ring         bool\n",
       "Dimensional Awareness      bool\n",
       "Cold Resistance            bool\n",
       "Durability                 bool\n",
       "Stealth                    bool\n",
       "Energy Absorption          bool\n",
       "Flight                     bool\n",
       "Danger Sense               bool\n",
       "Underwater breathing       bool\n",
       "Marksmanship               bool\n",
       "Weapons Master             bool\n",
       "Power Augmentation         bool\n",
       "Animal Attributes          bool\n",
       "Longevity                  bool\n",
       "Intelligence               bool\n",
       "Super Strength             bool\n",
       "Cryokinesis                bool\n",
       "Telepathy                  bool\n",
       "Energy Armor               bool\n",
       "Energy Blasts              bool\n",
       "Duplication                bool\n",
       "Size Changing              bool\n",
       "Density Control            bool\n",
       "Stamina                    bool\n",
       "Astral Travel              bool\n",
       "Audio Control              bool\n",
       "Dexterity                  bool\n",
       "                          ...  \n",
       "Intuitive aptitude         bool\n",
       "Vision - Microscopic       bool\n",
       "Melting                    bool\n",
       "Wind Control               bool\n",
       "Super Breath               bool\n",
       "Wallcrawling               bool\n",
       "Vision - Night             bool\n",
       "Vision - Infrared          bool\n",
       "Grim Reaping               bool\n",
       "Matter Absorption          bool\n",
       "The Force                  bool\n",
       "Resurrection               bool\n",
       "Terrakinesis               bool\n",
       "Vision - Heat              bool\n",
       "Vitakinesis                bool\n",
       "Radar Sense                bool\n",
       "Qwardian Power Ring        bool\n",
       "Weather Control            bool\n",
       "Vision - X-Ray             bool\n",
       "Vision - Thermal           bool\n",
       "Web Creation               bool\n",
       "Reality Warping            bool\n",
       "Odin Force                 bool\n",
       "Symbiote Costume           bool\n",
       "Speed Force                bool\n",
       "Phoenix Force              bool\n",
       "Molecular Dissipation      bool\n",
       "Vision - Cryo              bool\n",
       "Omnipresent                bool\n",
       "Omniscient                 bool\n",
       "Length: 168, dtype: object"
      ]
     },
     "execution_count": 33,
     "metadata": {},
     "output_type": "execute_result"
    }
   ],
   "source": [
    "powers_df.dtypes"
   ]
  },
  {
   "cell_type": "markdown",
   "metadata": {},
   "source": [
    "It looks like all of the columns are booleans (except for the column with the names of the superheros) so they can't have any placeholder values - everything has to be `True` or `False` if it's not `NaN` (and we know none of them are `NaN`).  The names of the heros could have placeholder values but it'd be pretty strange to not have the name recorded.  I'll check it out anyway, just in case.  All of the names should be unique so I'm going to see how many unique values there are and compare that to the number of rows.  If all of the names are unique, it should equal the number of rows."
   ]
  },
  {
   "cell_type": "code",
   "execution_count": 34,
   "metadata": {
    "scrolled": true
   },
   "outputs": [
    {
     "data": {
      "text/plain": [
       "667"
      ]
     },
     "execution_count": 34,
     "metadata": {},
     "output_type": "execute_result"
    }
   ],
   "source": [
    "len(powers_df.hero_names.unique())"
   ]
  },
  {
   "cell_type": "code",
   "execution_count": 35,
   "metadata": {},
   "outputs": [
    {
     "data": {
      "text/plain": [
       "667"
      ]
     },
     "execution_count": 35,
     "metadata": {},
     "output_type": "execute_result"
    }
   ],
   "source": [
    "len(powers_df[\"hero_names\"])"
   ]
  },
  {
   "cell_type": "markdown",
   "metadata": {},
   "source": [
    "Yep, they're the same.  So, this dataframe doesn't appear to be missing any data."
   ]
  },
  {
   "cell_type": "markdown",
   "metadata": {},
   "source": [
    "## Joining, Grouping, and Aggregating\n",
    "\n",
    "In the cell below, join the two DataFrames.  Think about which sort of join you should use, as well as which columns you should join on.  Rename columns and manipulate as needed.  \n",
    "\n",
    "**_HINT:_** If the join throws an error message, consider setting the column you want to join on as the index for each DataFrame.  "
   ]
  },
  {
   "cell_type": "markdown",
   "metadata": {},
   "source": [
    "I'm going to do an inner join and, to make it easier, I'm going to rename the `name` column in `heroes_df` to `hero_names` so that it matches the name of the column in `powers_df`.  "
   ]
  },
  {
   "cell_type": "code",
   "execution_count": 36,
   "metadata": {
    "scrolled": true
   },
   "outputs": [],
   "source": [
    "heroes_df.rename({\"name\":\"hero_names\"},axis=\"columns\",inplace=True)"
   ]
  },
  {
   "cell_type": "code",
   "execution_count": 37,
   "metadata": {},
   "outputs": [
    {
     "data": {
      "text/html": [
       "<div>\n",
       "<style scoped>\n",
       "    .dataframe tbody tr th:only-of-type {\n",
       "        vertical-align: middle;\n",
       "    }\n",
       "\n",
       "    .dataframe tbody tr th {\n",
       "        vertical-align: top;\n",
       "    }\n",
       "\n",
       "    .dataframe thead th {\n",
       "        text-align: right;\n",
       "    }\n",
       "</style>\n",
       "<table border=\"1\" class=\"dataframe\">\n",
       "  <thead>\n",
       "    <tr style=\"text-align: right;\">\n",
       "      <th></th>\n",
       "      <th>hero_names</th>\n",
       "      <th>Gender</th>\n",
       "      <th>Eye color</th>\n",
       "      <th>Race</th>\n",
       "      <th>Hair color</th>\n",
       "      <th>Height</th>\n",
       "      <th>Publisher</th>\n",
       "      <th>Skin color</th>\n",
       "      <th>Alignment</th>\n",
       "      <th>Weight</th>\n",
       "    </tr>\n",
       "  </thead>\n",
       "  <tbody>\n",
       "    <tr>\n",
       "      <th>0</th>\n",
       "      <td>A-Bomb</td>\n",
       "      <td>Male</td>\n",
       "      <td>yellow</td>\n",
       "      <td>Human</td>\n",
       "      <td>No Hair</td>\n",
       "      <td>203.0</td>\n",
       "      <td>Marvel Comics</td>\n",
       "      <td>-</td>\n",
       "      <td>good</td>\n",
       "      <td>441.0</td>\n",
       "    </tr>\n",
       "    <tr>\n",
       "      <th>1</th>\n",
       "      <td>Abe Sapien</td>\n",
       "      <td>Male</td>\n",
       "      <td>blue</td>\n",
       "      <td>Icthyo Sapien</td>\n",
       "      <td>No Hair</td>\n",
       "      <td>191.0</td>\n",
       "      <td>Dark Horse Comics</td>\n",
       "      <td>blue</td>\n",
       "      <td>good</td>\n",
       "      <td>65.0</td>\n",
       "    </tr>\n",
       "    <tr>\n",
       "      <th>2</th>\n",
       "      <td>Abin Sur</td>\n",
       "      <td>Male</td>\n",
       "      <td>blue</td>\n",
       "      <td>Ungaran</td>\n",
       "      <td>No Hair</td>\n",
       "      <td>185.0</td>\n",
       "      <td>DC Comics</td>\n",
       "      <td>red</td>\n",
       "      <td>good</td>\n",
       "      <td>90.0</td>\n",
       "    </tr>\n",
       "    <tr>\n",
       "      <th>3</th>\n",
       "      <td>Abomination</td>\n",
       "      <td>Male</td>\n",
       "      <td>green</td>\n",
       "      <td>Human / Radiation</td>\n",
       "      <td>No Hair</td>\n",
       "      <td>203.0</td>\n",
       "      <td>Marvel Comics</td>\n",
       "      <td>-</td>\n",
       "      <td>bad</td>\n",
       "      <td>441.0</td>\n",
       "    </tr>\n",
       "    <tr>\n",
       "      <th>4</th>\n",
       "      <td>Abraxas</td>\n",
       "      <td>Male</td>\n",
       "      <td>blue</td>\n",
       "      <td>Cosmic Entity</td>\n",
       "      <td>Black</td>\n",
       "      <td>185.0</td>\n",
       "      <td>Marvel Comics</td>\n",
       "      <td>-</td>\n",
       "      <td>bad</td>\n",
       "      <td>90.0</td>\n",
       "    </tr>\n",
       "  </tbody>\n",
       "</table>\n",
       "</div>"
      ],
      "text/plain": [
       "    hero_names Gender Eye color               Race Hair color  Height  \\\n",
       "0       A-Bomb   Male    yellow              Human    No Hair   203.0   \n",
       "1   Abe Sapien   Male      blue      Icthyo Sapien    No Hair   191.0   \n",
       "2     Abin Sur   Male      blue            Ungaran    No Hair   185.0   \n",
       "3  Abomination   Male     green  Human / Radiation    No Hair   203.0   \n",
       "4      Abraxas   Male      blue      Cosmic Entity      Black   185.0   \n",
       "\n",
       "           Publisher Skin color Alignment  Weight  \n",
       "0      Marvel Comics          -      good   441.0  \n",
       "1  Dark Horse Comics       blue      good    65.0  \n",
       "2          DC Comics        red      good    90.0  \n",
       "3      Marvel Comics          -       bad   441.0  \n",
       "4      Marvel Comics          -       bad    90.0  "
      ]
     },
     "execution_count": 37,
     "metadata": {},
     "output_type": "execute_result"
    }
   ],
   "source": [
    "heroes_df.head()"
   ]
  },
  {
   "cell_type": "code",
   "execution_count": 38,
   "metadata": {},
   "outputs": [
    {
     "data": {
      "text/html": [
       "<div>\n",
       "<style scoped>\n",
       "    .dataframe tbody tr th:only-of-type {\n",
       "        vertical-align: middle;\n",
       "    }\n",
       "\n",
       "    .dataframe tbody tr th {\n",
       "        vertical-align: top;\n",
       "    }\n",
       "\n",
       "    .dataframe thead th {\n",
       "        text-align: right;\n",
       "    }\n",
       "</style>\n",
       "<table border=\"1\" class=\"dataframe\">\n",
       "  <thead>\n",
       "    <tr style=\"text-align: right;\">\n",
       "      <th></th>\n",
       "      <th>Agility</th>\n",
       "      <th>Accelerated Healing</th>\n",
       "      <th>Lantern Power Ring</th>\n",
       "      <th>Dimensional Awareness</th>\n",
       "      <th>Cold Resistance</th>\n",
       "      <th>Durability</th>\n",
       "      <th>Stealth</th>\n",
       "      <th>Energy Absorption</th>\n",
       "      <th>Flight</th>\n",
       "      <th>Danger Sense</th>\n",
       "      <th>...</th>\n",
       "      <th>Web Creation</th>\n",
       "      <th>Reality Warping</th>\n",
       "      <th>Odin Force</th>\n",
       "      <th>Symbiote Costume</th>\n",
       "      <th>Speed Force</th>\n",
       "      <th>Phoenix Force</th>\n",
       "      <th>Molecular Dissipation</th>\n",
       "      <th>Vision - Cryo</th>\n",
       "      <th>Omnipresent</th>\n",
       "      <th>Omniscient</th>\n",
       "    </tr>\n",
       "    <tr>\n",
       "      <th>hero_names</th>\n",
       "      <th></th>\n",
       "      <th></th>\n",
       "      <th></th>\n",
       "      <th></th>\n",
       "      <th></th>\n",
       "      <th></th>\n",
       "      <th></th>\n",
       "      <th></th>\n",
       "      <th></th>\n",
       "      <th></th>\n",
       "      <th></th>\n",
       "      <th></th>\n",
       "      <th></th>\n",
       "      <th></th>\n",
       "      <th></th>\n",
       "      <th></th>\n",
       "      <th></th>\n",
       "      <th></th>\n",
       "      <th></th>\n",
       "      <th></th>\n",
       "      <th></th>\n",
       "    </tr>\n",
       "  </thead>\n",
       "  <tbody>\n",
       "    <tr>\n",
       "      <th>3-D Man</th>\n",
       "      <td>True</td>\n",
       "      <td>False</td>\n",
       "      <td>False</td>\n",
       "      <td>False</td>\n",
       "      <td>False</td>\n",
       "      <td>False</td>\n",
       "      <td>False</td>\n",
       "      <td>False</td>\n",
       "      <td>False</td>\n",
       "      <td>False</td>\n",
       "      <td>...</td>\n",
       "      <td>False</td>\n",
       "      <td>False</td>\n",
       "      <td>False</td>\n",
       "      <td>False</td>\n",
       "      <td>False</td>\n",
       "      <td>False</td>\n",
       "      <td>False</td>\n",
       "      <td>False</td>\n",
       "      <td>False</td>\n",
       "      <td>False</td>\n",
       "    </tr>\n",
       "    <tr>\n",
       "      <th>A-Bomb</th>\n",
       "      <td>False</td>\n",
       "      <td>True</td>\n",
       "      <td>False</td>\n",
       "      <td>False</td>\n",
       "      <td>False</td>\n",
       "      <td>True</td>\n",
       "      <td>False</td>\n",
       "      <td>False</td>\n",
       "      <td>False</td>\n",
       "      <td>False</td>\n",
       "      <td>...</td>\n",
       "      <td>False</td>\n",
       "      <td>False</td>\n",
       "      <td>False</td>\n",
       "      <td>False</td>\n",
       "      <td>False</td>\n",
       "      <td>False</td>\n",
       "      <td>False</td>\n",
       "      <td>False</td>\n",
       "      <td>False</td>\n",
       "      <td>False</td>\n",
       "    </tr>\n",
       "    <tr>\n",
       "      <th>Abe Sapien</th>\n",
       "      <td>True</td>\n",
       "      <td>True</td>\n",
       "      <td>False</td>\n",
       "      <td>False</td>\n",
       "      <td>True</td>\n",
       "      <td>True</td>\n",
       "      <td>False</td>\n",
       "      <td>False</td>\n",
       "      <td>False</td>\n",
       "      <td>False</td>\n",
       "      <td>...</td>\n",
       "      <td>False</td>\n",
       "      <td>False</td>\n",
       "      <td>False</td>\n",
       "      <td>False</td>\n",
       "      <td>False</td>\n",
       "      <td>False</td>\n",
       "      <td>False</td>\n",
       "      <td>False</td>\n",
       "      <td>False</td>\n",
       "      <td>False</td>\n",
       "    </tr>\n",
       "    <tr>\n",
       "      <th>Abin Sur</th>\n",
       "      <td>False</td>\n",
       "      <td>False</td>\n",
       "      <td>True</td>\n",
       "      <td>False</td>\n",
       "      <td>False</td>\n",
       "      <td>False</td>\n",
       "      <td>False</td>\n",
       "      <td>False</td>\n",
       "      <td>False</td>\n",
       "      <td>False</td>\n",
       "      <td>...</td>\n",
       "      <td>False</td>\n",
       "      <td>False</td>\n",
       "      <td>False</td>\n",
       "      <td>False</td>\n",
       "      <td>False</td>\n",
       "      <td>False</td>\n",
       "      <td>False</td>\n",
       "      <td>False</td>\n",
       "      <td>False</td>\n",
       "      <td>False</td>\n",
       "    </tr>\n",
       "    <tr>\n",
       "      <th>Abomination</th>\n",
       "      <td>False</td>\n",
       "      <td>True</td>\n",
       "      <td>False</td>\n",
       "      <td>False</td>\n",
       "      <td>False</td>\n",
       "      <td>False</td>\n",
       "      <td>False</td>\n",
       "      <td>False</td>\n",
       "      <td>False</td>\n",
       "      <td>False</td>\n",
       "      <td>...</td>\n",
       "      <td>False</td>\n",
       "      <td>False</td>\n",
       "      <td>False</td>\n",
       "      <td>False</td>\n",
       "      <td>False</td>\n",
       "      <td>False</td>\n",
       "      <td>False</td>\n",
       "      <td>False</td>\n",
       "      <td>False</td>\n",
       "      <td>False</td>\n",
       "    </tr>\n",
       "  </tbody>\n",
       "</table>\n",
       "<p>5 rows × 167 columns</p>\n",
       "</div>"
      ],
      "text/plain": [
       "             Agility  Accelerated Healing  Lantern Power Ring  \\\n",
       "hero_names                                                      \n",
       "3-D Man         True                False               False   \n",
       "A-Bomb         False                 True               False   \n",
       "Abe Sapien      True                 True               False   \n",
       "Abin Sur       False                False                True   \n",
       "Abomination    False                 True               False   \n",
       "\n",
       "             Dimensional Awareness  Cold Resistance  Durability  Stealth  \\\n",
       "hero_names                                                                 \n",
       "3-D Man                      False            False       False    False   \n",
       "A-Bomb                       False            False        True    False   \n",
       "Abe Sapien                   False             True        True    False   \n",
       "Abin Sur                     False            False       False    False   \n",
       "Abomination                  False            False       False    False   \n",
       "\n",
       "             Energy Absorption  Flight  Danger Sense  ...  Web Creation  \\\n",
       "hero_names                                            ...                 \n",
       "3-D Man                  False   False         False  ...         False   \n",
       "A-Bomb                   False   False         False  ...         False   \n",
       "Abe Sapien               False   False         False  ...         False   \n",
       "Abin Sur                 False   False         False  ...         False   \n",
       "Abomination              False   False         False  ...         False   \n",
       "\n",
       "             Reality Warping  Odin Force  Symbiote Costume  Speed Force  \\\n",
       "hero_names                                                                \n",
       "3-D Man                False       False             False        False   \n",
       "A-Bomb                 False       False             False        False   \n",
       "Abe Sapien             False       False             False        False   \n",
       "Abin Sur               False       False             False        False   \n",
       "Abomination            False       False             False        False   \n",
       "\n",
       "             Phoenix Force  Molecular Dissipation  Vision - Cryo  Omnipresent  \\\n",
       "hero_names                                                                      \n",
       "3-D Man              False                  False          False        False   \n",
       "A-Bomb               False                  False          False        False   \n",
       "Abe Sapien           False                  False          False        False   \n",
       "Abin Sur             False                  False          False        False   \n",
       "Abomination          False                  False          False        False   \n",
       "\n",
       "             Omniscient  \n",
       "hero_names               \n",
       "3-D Man           False  \n",
       "A-Bomb            False  \n",
       "Abe Sapien        False  \n",
       "Abin Sur          False  \n",
       "Abomination       False  \n",
       "\n",
       "[5 rows x 167 columns]"
      ]
     },
     "execution_count": 38,
     "metadata": {},
     "output_type": "execute_result"
    }
   ],
   "source": [
    "heroes_df.set_index(\"hero_names\").head()\n",
    "powers_df.set_index(\"hero_names\").head()"
   ]
  },
  {
   "cell_type": "code",
   "execution_count": 39,
   "metadata": {
    "scrolled": true
   },
   "outputs": [
    {
     "data": {
      "text/html": [
       "<div>\n",
       "<style scoped>\n",
       "    .dataframe tbody tr th:only-of-type {\n",
       "        vertical-align: middle;\n",
       "    }\n",
       "\n",
       "    .dataframe tbody tr th {\n",
       "        vertical-align: top;\n",
       "    }\n",
       "\n",
       "    .dataframe thead th {\n",
       "        text-align: right;\n",
       "    }\n",
       "</style>\n",
       "<table border=\"1\" class=\"dataframe\">\n",
       "  <thead>\n",
       "    <tr style=\"text-align: right;\">\n",
       "      <th></th>\n",
       "      <th>hero_names-heroes_df</th>\n",
       "      <th>Gender</th>\n",
       "      <th>Eye color</th>\n",
       "      <th>Race</th>\n",
       "      <th>Hair color</th>\n",
       "      <th>Height</th>\n",
       "      <th>Publisher</th>\n",
       "      <th>Skin color</th>\n",
       "      <th>Alignment</th>\n",
       "      <th>Weight</th>\n",
       "      <th>...</th>\n",
       "      <th>Web Creation</th>\n",
       "      <th>Reality Warping</th>\n",
       "      <th>Odin Force</th>\n",
       "      <th>Symbiote Costume</th>\n",
       "      <th>Speed Force</th>\n",
       "      <th>Phoenix Force</th>\n",
       "      <th>Molecular Dissipation</th>\n",
       "      <th>Vision - Cryo</th>\n",
       "      <th>Omnipresent</th>\n",
       "      <th>Omniscient</th>\n",
       "    </tr>\n",
       "  </thead>\n",
       "  <tbody>\n",
       "    <tr>\n",
       "      <th>0</th>\n",
       "      <td>A-Bomb</td>\n",
       "      <td>Male</td>\n",
       "      <td>yellow</td>\n",
       "      <td>Human</td>\n",
       "      <td>No Hair</td>\n",
       "      <td>203.0</td>\n",
       "      <td>Marvel Comics</td>\n",
       "      <td>-</td>\n",
       "      <td>good</td>\n",
       "      <td>441.0</td>\n",
       "      <td>...</td>\n",
       "      <td>False</td>\n",
       "      <td>False</td>\n",
       "      <td>False</td>\n",
       "      <td>False</td>\n",
       "      <td>False</td>\n",
       "      <td>False</td>\n",
       "      <td>False</td>\n",
       "      <td>False</td>\n",
       "      <td>False</td>\n",
       "      <td>False</td>\n",
       "    </tr>\n",
       "    <tr>\n",
       "      <th>1</th>\n",
       "      <td>Abe Sapien</td>\n",
       "      <td>Male</td>\n",
       "      <td>blue</td>\n",
       "      <td>Icthyo Sapien</td>\n",
       "      <td>No Hair</td>\n",
       "      <td>191.0</td>\n",
       "      <td>Dark Horse Comics</td>\n",
       "      <td>blue</td>\n",
       "      <td>good</td>\n",
       "      <td>65.0</td>\n",
       "      <td>...</td>\n",
       "      <td>False</td>\n",
       "      <td>False</td>\n",
       "      <td>False</td>\n",
       "      <td>False</td>\n",
       "      <td>False</td>\n",
       "      <td>False</td>\n",
       "      <td>False</td>\n",
       "      <td>False</td>\n",
       "      <td>False</td>\n",
       "      <td>False</td>\n",
       "    </tr>\n",
       "    <tr>\n",
       "      <th>2</th>\n",
       "      <td>Abin Sur</td>\n",
       "      <td>Male</td>\n",
       "      <td>blue</td>\n",
       "      <td>Ungaran</td>\n",
       "      <td>No Hair</td>\n",
       "      <td>185.0</td>\n",
       "      <td>DC Comics</td>\n",
       "      <td>red</td>\n",
       "      <td>good</td>\n",
       "      <td>90.0</td>\n",
       "      <td>...</td>\n",
       "      <td>False</td>\n",
       "      <td>False</td>\n",
       "      <td>False</td>\n",
       "      <td>False</td>\n",
       "      <td>False</td>\n",
       "      <td>False</td>\n",
       "      <td>False</td>\n",
       "      <td>False</td>\n",
       "      <td>False</td>\n",
       "      <td>False</td>\n",
       "    </tr>\n",
       "    <tr>\n",
       "      <th>3</th>\n",
       "      <td>Abomination</td>\n",
       "      <td>Male</td>\n",
       "      <td>green</td>\n",
       "      <td>Human / Radiation</td>\n",
       "      <td>No Hair</td>\n",
       "      <td>203.0</td>\n",
       "      <td>Marvel Comics</td>\n",
       "      <td>-</td>\n",
       "      <td>bad</td>\n",
       "      <td>441.0</td>\n",
       "      <td>...</td>\n",
       "      <td>False</td>\n",
       "      <td>False</td>\n",
       "      <td>False</td>\n",
       "      <td>False</td>\n",
       "      <td>False</td>\n",
       "      <td>False</td>\n",
       "      <td>False</td>\n",
       "      <td>False</td>\n",
       "      <td>False</td>\n",
       "      <td>False</td>\n",
       "    </tr>\n",
       "    <tr>\n",
       "      <th>4</th>\n",
       "      <td>Abraxas</td>\n",
       "      <td>Male</td>\n",
       "      <td>blue</td>\n",
       "      <td>Cosmic Entity</td>\n",
       "      <td>Black</td>\n",
       "      <td>185.0</td>\n",
       "      <td>Marvel Comics</td>\n",
       "      <td>-</td>\n",
       "      <td>bad</td>\n",
       "      <td>90.0</td>\n",
       "      <td>...</td>\n",
       "      <td>False</td>\n",
       "      <td>False</td>\n",
       "      <td>False</td>\n",
       "      <td>False</td>\n",
       "      <td>False</td>\n",
       "      <td>False</td>\n",
       "      <td>False</td>\n",
       "      <td>False</td>\n",
       "      <td>False</td>\n",
       "      <td>False</td>\n",
       "    </tr>\n",
       "  </tbody>\n",
       "</table>\n",
       "<p>5 rows × 178 columns</p>\n",
       "</div>"
      ],
      "text/plain": [
       "  hero_names-heroes_df Gender Eye color               Race Hair color  Height  \\\n",
       "0               A-Bomb   Male    yellow              Human    No Hair   203.0   \n",
       "1           Abe Sapien   Male      blue      Icthyo Sapien    No Hair   191.0   \n",
       "2             Abin Sur   Male      blue            Ungaran    No Hair   185.0   \n",
       "3          Abomination   Male     green  Human / Radiation    No Hair   203.0   \n",
       "4              Abraxas   Male      blue      Cosmic Entity      Black   185.0   \n",
       "\n",
       "           Publisher Skin color Alignment  Weight  ... Web Creation  \\\n",
       "0      Marvel Comics          -      good   441.0  ...        False   \n",
       "1  Dark Horse Comics       blue      good    65.0  ...        False   \n",
       "2          DC Comics        red      good    90.0  ...        False   \n",
       "3      Marvel Comics          -       bad   441.0  ...        False   \n",
       "4      Marvel Comics          -       bad    90.0  ...        False   \n",
       "\n",
       "   Reality Warping  Odin Force  Symbiote Costume  Speed Force  Phoenix Force  \\\n",
       "0            False       False             False        False          False   \n",
       "1            False       False             False        False          False   \n",
       "2            False       False             False        False          False   \n",
       "3            False       False             False        False          False   \n",
       "4            False       False             False        False          False   \n",
       "\n",
       "   Molecular Dissipation  Vision - Cryo  Omnipresent  Omniscient  \n",
       "0                  False          False        False       False  \n",
       "1                  False          False        False       False  \n",
       "2                  False          False        False       False  \n",
       "3                  False          False        False       False  \n",
       "4                  False          False        False       False  \n",
       "\n",
       "[5 rows x 178 columns]"
      ]
     },
     "execution_count": 39,
     "metadata": {},
     "output_type": "execute_result"
    }
   ],
   "source": [
    "heroes_and_powers=heroes_df.join(powers_df,how='inner',lsuffix=\"-heroes_df\",rsuffix=\"-powers_df\")\n",
    "heroes_and_powers.head()"
   ]
  },
  {
   "cell_type": "code",
   "execution_count": 40,
   "metadata": {},
   "outputs": [],
   "source": [
    "heroes_and_powers.rename({\"hero_names-heroes_df\":\"name\"},axis=\"columns\",inplace=True)"
   ]
  },
  {
   "cell_type": "markdown",
   "metadata": {},
   "source": [
    "In the cell below, subset male and female heroes into different dataframes.  Create a scatterplot of the height and weight of each hero, with weight as the y-axis.  Plot both the male and female heroes subset into each dataframe, and make the color for each point in the scatterplot correspond to the gender of the superhero."
   ]
  },
  {
   "cell_type": "code",
   "execution_count": 41,
   "metadata": {
    "scrolled": true
   },
   "outputs": [
    {
     "data": {
      "text/html": [
       "<div>\n",
       "<style scoped>\n",
       "    .dataframe tbody tr th:only-of-type {\n",
       "        vertical-align: middle;\n",
       "    }\n",
       "\n",
       "    .dataframe tbody tr th {\n",
       "        vertical-align: top;\n",
       "    }\n",
       "\n",
       "    .dataframe thead th {\n",
       "        text-align: right;\n",
       "    }\n",
       "</style>\n",
       "<table border=\"1\" class=\"dataframe\">\n",
       "  <thead>\n",
       "    <tr style=\"text-align: right;\">\n",
       "      <th></th>\n",
       "      <th>name</th>\n",
       "      <th>Gender</th>\n",
       "      <th>Eye color</th>\n",
       "      <th>Race</th>\n",
       "      <th>Hair color</th>\n",
       "      <th>Height</th>\n",
       "      <th>Publisher</th>\n",
       "      <th>Skin color</th>\n",
       "      <th>Alignment</th>\n",
       "      <th>Weight</th>\n",
       "      <th>...</th>\n",
       "      <th>Web Creation</th>\n",
       "      <th>Reality Warping</th>\n",
       "      <th>Odin Force</th>\n",
       "      <th>Symbiote Costume</th>\n",
       "      <th>Speed Force</th>\n",
       "      <th>Phoenix Force</th>\n",
       "      <th>Molecular Dissipation</th>\n",
       "      <th>Vision - Cryo</th>\n",
       "      <th>Omnipresent</th>\n",
       "      <th>Omniscient</th>\n",
       "    </tr>\n",
       "  </thead>\n",
       "  <tbody>\n",
       "    <tr>\n",
       "      <th>133</th>\n",
       "      <td>Box III</td>\n",
       "      <td>-</td>\n",
       "      <td>blue</td>\n",
       "      <td>-</td>\n",
       "      <td>Blond</td>\n",
       "      <td>193.0</td>\n",
       "      <td>Marvel Comics</td>\n",
       "      <td>-</td>\n",
       "      <td>good</td>\n",
       "      <td>110.0</td>\n",
       "      <td>...</td>\n",
       "      <td>False</td>\n",
       "      <td>False</td>\n",
       "      <td>False</td>\n",
       "      <td>False</td>\n",
       "      <td>False</td>\n",
       "      <td>False</td>\n",
       "      <td>False</td>\n",
       "      <td>False</td>\n",
       "      <td>False</td>\n",
       "      <td>False</td>\n",
       "    </tr>\n",
       "    <tr>\n",
       "      <th>165</th>\n",
       "      <td>Cecilia Reyes</td>\n",
       "      <td>-</td>\n",
       "      <td>brown</td>\n",
       "      <td>-</td>\n",
       "      <td>Brown</td>\n",
       "      <td>170.0</td>\n",
       "      <td>Marvel Comics</td>\n",
       "      <td>-</td>\n",
       "      <td>good</td>\n",
       "      <td>62.0</td>\n",
       "      <td>...</td>\n",
       "      <td>False</td>\n",
       "      <td>False</td>\n",
       "      <td>False</td>\n",
       "      <td>False</td>\n",
       "      <td>False</td>\n",
       "      <td>False</td>\n",
       "      <td>False</td>\n",
       "      <td>False</td>\n",
       "      <td>False</td>\n",
       "      <td>False</td>\n",
       "    </tr>\n",
       "    <tr>\n",
       "      <th>196</th>\n",
       "      <td>Cypher</td>\n",
       "      <td>-</td>\n",
       "      <td>blue</td>\n",
       "      <td>-</td>\n",
       "      <td>Blond</td>\n",
       "      <td>175.0</td>\n",
       "      <td>Marvel Comics</td>\n",
       "      <td>-</td>\n",
       "      <td>good</td>\n",
       "      <td>68.0</td>\n",
       "      <td>...</td>\n",
       "      <td>False</td>\n",
       "      <td>False</td>\n",
       "      <td>False</td>\n",
       "      <td>False</td>\n",
       "      <td>False</td>\n",
       "      <td>False</td>\n",
       "      <td>False</td>\n",
       "      <td>False</td>\n",
       "      <td>False</td>\n",
       "      <td>False</td>\n",
       "    </tr>\n",
       "    <tr>\n",
       "      <th>249</th>\n",
       "      <td>Fabian Cortez</td>\n",
       "      <td>-</td>\n",
       "      <td>blue</td>\n",
       "      <td>-</td>\n",
       "      <td>Brown</td>\n",
       "      <td>196.0</td>\n",
       "      <td>Marvel Comics</td>\n",
       "      <td>-</td>\n",
       "      <td>bad</td>\n",
       "      <td>96.0</td>\n",
       "      <td>...</td>\n",
       "      <td>False</td>\n",
       "      <td>False</td>\n",
       "      <td>False</td>\n",
       "      <td>False</td>\n",
       "      <td>False</td>\n",
       "      <td>False</td>\n",
       "      <td>False</td>\n",
       "      <td>False</td>\n",
       "      <td>False</td>\n",
       "      <td>False</td>\n",
       "    </tr>\n",
       "    <tr>\n",
       "      <th>253</th>\n",
       "      <td>Feral</td>\n",
       "      <td>-</td>\n",
       "      <td>yellow (without irises)</td>\n",
       "      <td>-</td>\n",
       "      <td>Orange / White</td>\n",
       "      <td>175.0</td>\n",
       "      <td>Marvel Comics</td>\n",
       "      <td>-</td>\n",
       "      <td>good</td>\n",
       "      <td>50.0</td>\n",
       "      <td>...</td>\n",
       "      <td>False</td>\n",
       "      <td>False</td>\n",
       "      <td>False</td>\n",
       "      <td>False</td>\n",
       "      <td>False</td>\n",
       "      <td>False</td>\n",
       "      <td>False</td>\n",
       "      <td>False</td>\n",
       "      <td>False</td>\n",
       "      <td>False</td>\n",
       "    </tr>\n",
       "  </tbody>\n",
       "</table>\n",
       "<p>5 rows × 178 columns</p>\n",
       "</div>"
      ],
      "text/plain": [
       "              name Gender                Eye color Race      Hair color  \\\n",
       "133        Box III      -                     blue    -           Blond   \n",
       "165  Cecilia Reyes      -                    brown    -           Brown   \n",
       "196         Cypher      -                     blue    -           Blond   \n",
       "249  Fabian Cortez      -                     blue    -           Brown   \n",
       "253          Feral      -  yellow (without irises)    -  Orange / White   \n",
       "\n",
       "     Height      Publisher Skin color Alignment  Weight  ... Web Creation  \\\n",
       "133   193.0  Marvel Comics          -      good   110.0  ...        False   \n",
       "165   170.0  Marvel Comics          -      good    62.0  ...        False   \n",
       "196   175.0  Marvel Comics          -      good    68.0  ...        False   \n",
       "249   196.0  Marvel Comics          -       bad    96.0  ...        False   \n",
       "253   175.0  Marvel Comics          -      good    50.0  ...        False   \n",
       "\n",
       "     Reality Warping  Odin Force  Symbiote Costume  Speed Force  \\\n",
       "133            False       False             False        False   \n",
       "165            False       False             False        False   \n",
       "196            False       False             False        False   \n",
       "249            False       False             False        False   \n",
       "253            False       False             False        False   \n",
       "\n",
       "     Phoenix Force  Molecular Dissipation  Vision - Cryo  Omnipresent  \\\n",
       "133          False                  False          False        False   \n",
       "165          False                  False          False        False   \n",
       "196          False                  False          False        False   \n",
       "249          False                  False          False        False   \n",
       "253          False                  False          False        False   \n",
       "\n",
       "     Omniscient  \n",
       "133       False  \n",
       "165       False  \n",
       "196       False  \n",
       "249       False  \n",
       "253       False  \n",
       "\n",
       "[5 rows x 178 columns]"
      ]
     },
     "execution_count": 41,
     "metadata": {},
     "output_type": "execute_result"
    }
   ],
   "source": [
    "women=heroes_and_powers.loc[heroes_and_powers[\"Gender\"]==\"Female\"]\n",
    "men=heroes_and_powers.loc[heroes_and_powers[\"Gender\"]==\"Male\"]\n",
    "unknown_and_other=heroes_and_powers.loc[heroes_and_powers[\"Gender\"]==\"-\"]\n",
    "unknown_and_other.head()"
   ]
  },
  {
   "cell_type": "code",
   "execution_count": 42,
   "metadata": {
    "scrolled": false
   },
   "outputs": [
    {
     "data": {
      "text/plain": [
       "Text(0.5, 0.98, 'Weight vs Height')"
      ]
     },
     "execution_count": 42,
     "metadata": {},
     "output_type": "execute_result"
    },
    {
     "data": {
      "image/png": "[encoded data removed]",
      "text/plain": [
       "<Figure size 576x576 with 3 Axes>"
      ]
     },
     "metadata": {
      "needs_background": "light"
     },
     "output_type": "display_data"
    }
   ],
   "source": [
    "fig, (ax1, ax2, ax3) = plt.subplots(1, 3,sharey=True,figsize=(8,8))\n",
    "\n",
    "women.plot(x=\"Height\",y=\"Weight\",kind=\"scatter\",ax=ax1)\n",
    "men.plot(x=\"Height\",y=\"Weight\", kind=\"scatter\",ax=ax2)\n",
    "unknown_and_other.plot(x=\"Height\",y=\"Weight\", kind=\"scatter\",ax=ax3)\n",
    "\n",
    "ax1.xaxis.set_label_text(\"Women\")\n",
    "ax2.xaxis.set_label_text(\"Men\")\n",
    "ax3.xaxis.set_label_text(\"Unknown and Other\")\n",
    "fig.suptitle(\"Weight vs Height\")"
   ]
  },
  {
   "cell_type": "code",
   "execution_count": 43,
   "metadata": {},
   "outputs": [
    {
     "data": {
      "text/html": [
       "<div>\n",
       "<style scoped>\n",
       "    .dataframe tbody tr th:only-of-type {\n",
       "        vertical-align: middle;\n",
       "    }\n",
       "\n",
       "    .dataframe tbody tr th {\n",
       "        vertical-align: top;\n",
       "    }\n",
       "\n",
       "    .dataframe thead th {\n",
       "        text-align: right;\n",
       "    }\n",
       "</style>\n",
       "<table border=\"1\" class=\"dataframe\">\n",
       "  <thead>\n",
       "    <tr style=\"text-align: right;\">\n",
       "      <th></th>\n",
       "      <th>name</th>\n",
       "      <th>Gender</th>\n",
       "      <th>Eye color</th>\n",
       "      <th>Race</th>\n",
       "      <th>Hair color</th>\n",
       "      <th>Height</th>\n",
       "      <th>Publisher</th>\n",
       "      <th>Skin color</th>\n",
       "      <th>Alignment</th>\n",
       "      <th>Weight</th>\n",
       "      <th>...</th>\n",
       "      <th>Reality Warping</th>\n",
       "      <th>Odin Force</th>\n",
       "      <th>Symbiote Costume</th>\n",
       "      <th>Speed Force</th>\n",
       "      <th>Phoenix Force</th>\n",
       "      <th>Molecular Dissipation</th>\n",
       "      <th>Vision - Cryo</th>\n",
       "      <th>Omnipresent</th>\n",
       "      <th>Omniscient</th>\n",
       "      <th>Gender_number</th>\n",
       "    </tr>\n",
       "  </thead>\n",
       "  <tbody>\n",
       "    <tr>\n",
       "      <th>0</th>\n",
       "      <td>A-Bomb</td>\n",
       "      <td>Male</td>\n",
       "      <td>yellow</td>\n",
       "      <td>Human</td>\n",
       "      <td>No Hair</td>\n",
       "      <td>203.0</td>\n",
       "      <td>Marvel Comics</td>\n",
       "      <td>-</td>\n",
       "      <td>good</td>\n",
       "      <td>441.0</td>\n",
       "      <td>...</td>\n",
       "      <td>False</td>\n",
       "      <td>False</td>\n",
       "      <td>False</td>\n",
       "      <td>False</td>\n",
       "      <td>False</td>\n",
       "      <td>False</td>\n",
       "      <td>False</td>\n",
       "      <td>False</td>\n",
       "      <td>False</td>\n",
       "      <td>0.0</td>\n",
       "    </tr>\n",
       "    <tr>\n",
       "      <th>1</th>\n",
       "      <td>Abe Sapien</td>\n",
       "      <td>Male</td>\n",
       "      <td>blue</td>\n",
       "      <td>Icthyo Sapien</td>\n",
       "      <td>No Hair</td>\n",
       "      <td>191.0</td>\n",
       "      <td>Dark Horse Comics</td>\n",
       "      <td>blue</td>\n",
       "      <td>good</td>\n",
       "      <td>65.0</td>\n",
       "      <td>...</td>\n",
       "      <td>False</td>\n",
       "      <td>False</td>\n",
       "      <td>False</td>\n",
       "      <td>False</td>\n",
       "      <td>False</td>\n",
       "      <td>False</td>\n",
       "      <td>False</td>\n",
       "      <td>False</td>\n",
       "      <td>False</td>\n",
       "      <td>0.0</td>\n",
       "    </tr>\n",
       "    <tr>\n",
       "      <th>2</th>\n",
       "      <td>Abin Sur</td>\n",
       "      <td>Male</td>\n",
       "      <td>blue</td>\n",
       "      <td>Ungaran</td>\n",
       "      <td>No Hair</td>\n",
       "      <td>185.0</td>\n",
       "      <td>DC Comics</td>\n",
       "      <td>red</td>\n",
       "      <td>good</td>\n",
       "      <td>90.0</td>\n",
       "      <td>...</td>\n",
       "      <td>False</td>\n",
       "      <td>False</td>\n",
       "      <td>False</td>\n",
       "      <td>False</td>\n",
       "      <td>False</td>\n",
       "      <td>False</td>\n",
       "      <td>False</td>\n",
       "      <td>False</td>\n",
       "      <td>False</td>\n",
       "      <td>0.0</td>\n",
       "    </tr>\n",
       "    <tr>\n",
       "      <th>3</th>\n",
       "      <td>Abomination</td>\n",
       "      <td>Male</td>\n",
       "      <td>green</td>\n",
       "      <td>Human / Radiation</td>\n",
       "      <td>No Hair</td>\n",
       "      <td>203.0</td>\n",
       "      <td>Marvel Comics</td>\n",
       "      <td>-</td>\n",
       "      <td>bad</td>\n",
       "      <td>441.0</td>\n",
       "      <td>...</td>\n",
       "      <td>False</td>\n",
       "      <td>False</td>\n",
       "      <td>False</td>\n",
       "      <td>False</td>\n",
       "      <td>False</td>\n",
       "      <td>False</td>\n",
       "      <td>False</td>\n",
       "      <td>False</td>\n",
       "      <td>False</td>\n",
       "      <td>0.0</td>\n",
       "    </tr>\n",
       "    <tr>\n",
       "      <th>4</th>\n",
       "      <td>Abraxas</td>\n",
       "      <td>Male</td>\n",
       "      <td>blue</td>\n",
       "      <td>Cosmic Entity</td>\n",
       "      <td>Black</td>\n",
       "      <td>185.0</td>\n",
       "      <td>Marvel Comics</td>\n",
       "      <td>-</td>\n",
       "      <td>bad</td>\n",
       "      <td>90.0</td>\n",
       "      <td>...</td>\n",
       "      <td>False</td>\n",
       "      <td>False</td>\n",
       "      <td>False</td>\n",
       "      <td>False</td>\n",
       "      <td>False</td>\n",
       "      <td>False</td>\n",
       "      <td>False</td>\n",
       "      <td>False</td>\n",
       "      <td>False</td>\n",
       "      <td>0.0</td>\n",
       "    </tr>\n",
       "  </tbody>\n",
       "</table>\n",
       "<p>5 rows × 179 columns</p>\n",
       "</div>"
      ],
      "text/plain": [
       "          name Gender Eye color               Race Hair color  Height  \\\n",
       "0       A-Bomb   Male    yellow              Human    No Hair   203.0   \n",
       "1   Abe Sapien   Male      blue      Icthyo Sapien    No Hair   191.0   \n",
       "2     Abin Sur   Male      blue            Ungaran    No Hair   185.0   \n",
       "3  Abomination   Male     green  Human / Radiation    No Hair   203.0   \n",
       "4      Abraxas   Male      blue      Cosmic Entity      Black   185.0   \n",
       "\n",
       "           Publisher Skin color Alignment  Weight  ... Reality Warping  \\\n",
       "0      Marvel Comics          -      good   441.0  ...           False   \n",
       "1  Dark Horse Comics       blue      good    65.0  ...           False   \n",
       "2          DC Comics        red      good    90.0  ...           False   \n",
       "3      Marvel Comics          -       bad   441.0  ...           False   \n",
       "4      Marvel Comics          -       bad    90.0  ...           False   \n",
       "\n",
       "   Odin Force  Symbiote Costume  Speed Force  Phoenix Force  \\\n",
       "0       False             False        False          False   \n",
       "1       False             False        False          False   \n",
       "2       False             False        False          False   \n",
       "3       False             False        False          False   \n",
       "4       False             False        False          False   \n",
       "\n",
       "   Molecular Dissipation  Vision - Cryo  Omnipresent  Omniscient  \\\n",
       "0                  False          False        False       False   \n",
       "1                  False          False        False       False   \n",
       "2                  False          False        False       False   \n",
       "3                  False          False        False       False   \n",
       "4                  False          False        False       False   \n",
       "\n",
       "   Gender_number  \n",
       "0            0.0  \n",
       "1            0.0  \n",
       "2            0.0  \n",
       "3            0.0  \n",
       "4            0.0  \n",
       "\n",
       "[5 rows x 179 columns]"
      ]
     },
     "execution_count": 43,
     "metadata": {},
     "output_type": "execute_result"
    }
   ],
   "source": [
    "heroes_and_powers.loc[heroes_and_powers[\"Gender\"]==\"Female\",\"Gender_number\"]=1\n",
    "heroes_and_powers.loc[heroes_and_powers[\"Gender\"]==\"Male\",\"Gender_number\"]=0\n",
    "heroes_and_powers.loc[heroes_and_powers[\"Gender\"]==\"-\",\"Gender_number\"]=2\n",
    "heroes_and_powers.head()"
   ]
  },
  {
   "cell_type": "code",
   "execution_count": 44,
   "metadata": {
    "scrolled": false
   },
   "outputs": [
    {
     "data": {
      "text/plain": [
       "<matplotlib.axes._subplots.AxesSubplot at 0x1a2cc9f84e0>"
      ]
     },
     "execution_count": 44,
     "metadata": {},
     "output_type": "execute_result"
    },
    {
     "data": {
      "image/png": "[encoded data removed]",
      "text/plain": [
       "<Figure size 576x576 with 2 Axes>"
      ]
     },
     "metadata": {
      "needs_background": "light"
     },
     "output_type": "display_data"
    }
   ],
   "source": [
    "heroes_and_powers.plot.scatter(\"Height\", \"Weight\",c=\"Gender_number\",colormap='brg',figsize=(8,8),title=\"Weight vs Height\")"
   ]
  },
  {
   "cell_type": "markdown",
   "metadata": {},
   "source": [
    "In the graph above, the blue dots represent male superheroes, red represents women, and green represents unknown/other."
   ]
  },
  {
   "cell_type": "markdown",
   "metadata": {},
   "source": [
    "## Some Initial Investigation\n",
    "\n",
    "Next, slice the DataFrame as needed and visualize the distribution of heights and weights by gender.  You should have 4 total plots.  \n",
    "\n",
    "In the cell below:\n",
    "\n",
    "* Slice the DataFrame into separate DataFrames by gender\n",
    "* Complete the `show_distplot` function.  This helper function should take in a DataFrame, a string containing the gender we want to visualize, and and the column name we want to visualize by gender. The function should display a distplot visualization from seaborn of the column/gender combination.  \n",
    "\n",
    "Hint: Don't forget to check the [seaborn documentation for distplot](https://seaborn.pydata.org/generated/seaborn.distplot.html) if you have questions about how to use it correctly! "
   ]
  },
  {
   "cell_type": "code",
   "execution_count": 45,
   "metadata": {},
   "outputs": [],
   "source": [
    "def show_distplot(dataframe, gender, column_name):\n",
    "    if gender==\"Male\":\n",
    "        return sns.distplot(men[column_name])\n",
    "    elif gender==\"Female\":\n",
    "        return sns.distplot(women[column_name])\n",
    "    else:\n",
    "        return sns.distplot(unknown_or_other[column_name])"
   ]
  },
  {
   "cell_type": "code",
   "execution_count": 46,
   "metadata": {},
   "outputs": [
    {
     "data": {
      "text/plain": [
       "<matplotlib.axes._subplots.AxesSubplot at 0x1a2cce8bd30>"
      ]
     },
     "execution_count": 46,
     "metadata": {},
     "output_type": "execute_result"
    },
    {
     "data": {
      "image/png": "[encoded data removed]",
      "text/plain": [
       "<Figure size 432x288 with 1 Axes>"
      ]
     },
     "metadata": {
      "needs_background": "light"
     },
     "output_type": "display_data"
    }
   ],
   "source": [
    "# Male Height\n",
    "show_distplot(heroes_and_powers,\"Male\",\"Height\")"
   ]
  },
  {
   "cell_type": "code",
   "execution_count": 47,
   "metadata": {},
   "outputs": [
    {
     "data": {
      "text/plain": [
       "<matplotlib.axes._subplots.AxesSubplot at 0x1a2cd22d160>"
      ]
     },
     "execution_count": 47,
     "metadata": {},
     "output_type": "execute_result"
    },
    {
     "data": {
      "image/png": "[encoded data removed]",
      "text/plain": [
       "<Figure size 432x288 with 1 Axes>"
      ]
     },
     "metadata": {
      "needs_background": "light"
     },
     "output_type": "display_data"
    }
   ],
   "source": [
    "# Male Weight\n",
    "show_distplot(heroes_and_powers,\"Male\",\"Weight\")"
   ]
  },
  {
   "cell_type": "code",
   "execution_count": 48,
   "metadata": {},
   "outputs": [
    {
     "data": {
      "text/plain": [
       "<matplotlib.axes._subplots.AxesSubplot at 0x1a2cd601ef0>"
      ]
     },
     "execution_count": 48,
     "metadata": {},
     "output_type": "execute_result"
    },
    {
     "data": {
      "image/png": "[encoded data removed]",
      "text/plain": [
       "<Figure size 432x288 with 1 Axes>"
      ]
     },
     "metadata": {
      "needs_background": "light"
     },
     "output_type": "display_data"
    }
   ],
   "source": [
    "# Female Height\n",
    "show_distplot(heroes_and_powers,\"Female\",\"Height\")"
   ]
  },
  {
   "cell_type": "code",
   "execution_count": 49,
   "metadata": {},
   "outputs": [
    {
     "data": {
      "text/plain": [
       "<matplotlib.axes._subplots.AxesSubplot at 0x1a2cd6d9cc0>"
      ]
     },
     "execution_count": 49,
     "metadata": {},
     "output_type": "execute_result"
    },
    {
     "data": {
      "image/png": "[encoded data removed]",
      "text/plain": [
       "<Figure size 432x288 with 1 Axes>"
      ]
     },
     "metadata": {
      "needs_background": "light"
     },
     "output_type": "display_data"
    }
   ],
   "source": [
    "# Female Weight\n",
    "show_distplot(heroes_and_powers,\"Female\",\"Weight\")"
   ]
  },
  {
   "cell_type": "markdown",
   "metadata": {},
   "source": [
    "Discuss your findings from the plots above, with respect to the distribution of height and weight by gender.  Your explanation should include discussion of any relevant summary statistics, including mean, median, mode, and the overall shape of each distribution.  \n",
    "\n",
    "Wite your answer below this line:\n",
    "____________________________________________________________________________________________________________________________\n",
    "\n",
    "All four plots looks like (mostly) normal distributions, with some right skew.  The right skew makes sense in the context of the data since superheroes often have super-human weights/heights.\n",
    "\n",
    "Male Height\n",
    "\n",
    "It's got a peak around 185cm with a right skew which means the mean will be above 185.  The median will be above 185 as well, but not as far above it as the mean.  The mode doesnt't really make sense to talk about with continuous data, but if we're binning the data, it will be around 185 (where the peak is). The standard deviation is likely pretty small, because the peak is pretty high/the slope down the side is pretty steep. However, we need to keep in mind that the missing values for male weights were replaced with the median male weight of 185 which definitely affects the shape/spread of the data (it exaggerates the peak).\n",
    "\n",
    "Female Height\n",
    "\n",
    "It's got a peak at 170cm with a right skew so we can make all the same conclusions as we did for the male height.  Mean and median are above 170cm (with mean being higher than the median).  The mode is at 170 and the standard deviation is also small.  And, because we assigned the missing heights to be the median height, the peak is exaggerated and the standard deviation is lower.\n",
    "\n",
    "Weights\n",
    "\n",
    "We can also make similar statements about the weights for male/female superheroes.  The distributions are normal with a right skew. The means will be above the medians and the medians are slightly above the modes.  The missing weights were replaced with the median weights so the peaks are higher than they would be otherwise and thus the standard deviation is smaller."
   ]
  },
  {
   "cell_type": "markdown",
   "metadata": {},
   "source": []
  },
  {
   "cell_type": "markdown",
   "metadata": {},
   "source": [
    "### Sample Question: Most Common Powers\n",
    "\n",
    "The rest of this notebook will be left to you to investigate the dataset by formulating your own questions, and then seeking answers using pandas and numpy.  Every answer should include some sort of visualization, when appropriate. Before moving on to formulating your own questions, use the dataset to answer the following questions about superhero powers:\n",
    "\n",
    "* What are the 5 most common powers overall?\n",
    "* What are the 5 most common powers in the Marvel Universe?\n",
    "* What are the 5 most common powers in the DC Universe?"
   ]
  },
  {
   "cell_type": "code",
   "execution_count": 50,
   "metadata": {},
   "outputs": [],
   "source": [
    "just_the_powers=powers_df.drop(\"hero_names\",axis=1)"
   ]
  },
  {
   "cell_type": "markdown",
   "metadata": {},
   "source": [
    "The top five most common powers are:"
   ]
  },
  {
   "cell_type": "code",
   "execution_count": 51,
   "metadata": {
    "scrolled": true
   },
   "outputs": [
    {
     "data": {
      "text/plain": [
       "Super Strength    360\n",
       "Stamina           289\n",
       "Durability        257\n",
       "Super Speed       249\n",
       "Agility           242\n",
       "dtype: int64"
      ]
     },
     "execution_count": 51,
     "metadata": {},
     "output_type": "execute_result"
    }
   ],
   "source": [
    "just_the_powers.sum().nlargest(5)"
   ]
  },
  {
   "cell_type": "markdown",
   "metadata": {},
   "source": [
    "The five most common powers in the DC universe are:"
   ]
  },
  {
   "cell_type": "code",
   "execution_count": 52,
   "metadata": {},
   "outputs": [
    {
     "data": {
      "text/plain": [
       "Super Strength    97\n",
       "Stamina           91\n",
       "Agility           81\n",
       "Durability        76\n",
       "Super Speed       75\n",
       "dtype: int64"
      ]
     },
     "execution_count": 52,
     "metadata": {},
     "output_type": "execute_result"
    }
   ],
   "source": [
    "dc_powers=heroes_and_powers.loc[heroes_and_powers[\"Publisher\"]==\"DC Comics\"]\n",
    "dc_just_powers=dc_powers.drop(['hero_names-powers_df','name','Gender','Eye color','Race','Hair color','Height','Publisher','Skin color','Alignment','Weight','Gender_number'],axis=\"columns\")\n",
    "dc_just_powers.sum().nlargest(5)"
   ]
  },
  {
   "cell_type": "markdown",
   "metadata": {},
   "source": [
    "The five most common powers in the Marvel universe are:"
   ]
  },
  {
   "cell_type": "code",
   "execution_count": 53,
   "metadata": {},
   "outputs": [
    {
     "data": {
      "text/plain": [
       "Super Strength    190\n",
       "Stamina           140\n",
       "Durability        135\n",
       "Super Speed       129\n",
       "Agility           109\n",
       "dtype: int64"
      ]
     },
     "execution_count": 53,
     "metadata": {},
     "output_type": "execute_result"
    }
   ],
   "source": [
    "marvel_powers=heroes_and_powers.loc[heroes_and_powers[\"Publisher\"]==\"Marvel Comics\"]\n",
    "marvel_just_powers=marvel_powers.drop(['hero_names-powers_df','name','Gender','Eye color','Race','Hair color','Height','Publisher','Skin color','Alignment','Weight','Gender_number'],axis=\"columns\")\n",
    "marvel_just_powers.sum().nlargest(5)"
   ]
  },
  {
   "cell_type": "markdown",
   "metadata": {},
   "source": [
    "Analyze the results you found above to answer the following question:\n",
    "\n",
    "How do the top 5 powers in the Marvel and DC universes compare?  Are they similar, or are there significant differences? How do they compare to the overall trends in the entire Superheroes dataset?\n",
    "\n",
    "Wite your answer below this line:\n",
    "____________________________________________________________________________________________________________________________\n",
    "\n",
    "\n",
    "### Your Own Investigation\n",
    "\n",
    "For the remainder of this lab, you'll be focusing on coming up with and answering your own question, just like we did above.  Your question should not be overly simple, and should require both descriptive statistics and data visualization to answer.  In case you're unsure of what questions to ask, some sample questions have been provided below.\n",
    "\n",
    "Pick one of the following questions to investigate and answer, or come up with one of your own!\n",
    "\n",
    "* Which powers have the highest chance of co-occurring in a hero (e.g. super strength and flight), and does this differ by gender?\n",
    "* Is there a relationship between a hero's height and weight and their powerset?\n",
    "* What is the distribution of skin colors amongst alien heroes?\n",
    "\n",
    "Explain your question below this line:\n",
    "____________________________________________________________________________________________________________________________\n",
    "\n",
    "\n",
    "\n",
    "Some sample cells have been provided to give you room to work. If you need to create more cells, you can do this easily by:\n",
    "\n",
    "1. Highlighting a cell and then pressing `esc` to enter command mode.\n",
    "1. Pressing `b` to add a cell below the currently highlighted cell, or `a` to add one above it.  \n",
    "\n",
    "Be sure to include thoughtful, well-labeled visualizations to back up your analysis!"
   ]
  },
  {
   "cell_type": "markdown",
   "metadata": {},
   "source": [
    "## Color by Race\n",
    "\n",
    "What colors are alien races?  To answer this, I'll start with a \"groupby\" to see what we're dealing with. This is a pretty straightforward investigation but we'll do more complex ones in future labs/projects."
   ]
  },
  {
   "cell_type": "code",
   "execution_count": 104,
   "metadata": {},
   "outputs": [],
   "source": [
    "race_colors=heroes_and_powers\n",
    "rows_to_drop=race_colors.loc[(race_colors[\"Race\"]=='-')|(race_colors[\"Skin color\"]=='-')].index #Getting rid of unknown races and skin colors\n",
    "race_colors.drop(rows_to_drop,inplace=True)"
   ]
  },
  {
   "cell_type": "code",
   "execution_count": 105,
   "metadata": {},
   "outputs": [
    {
     "data": {
      "text/html": [
       "<div>\n",
       "<style scoped>\n",
       "    .dataframe tbody tr th:only-of-type {\n",
       "        vertical-align: middle;\n",
       "    }\n",
       "\n",
       "    .dataframe tbody tr th {\n",
       "        vertical-align: top;\n",
       "    }\n",
       "\n",
       "    .dataframe thead th {\n",
       "        text-align: right;\n",
       "    }\n",
       "</style>\n",
       "<table border=\"1\" class=\"dataframe\">\n",
       "  <thead>\n",
       "    <tr style=\"text-align: right;\">\n",
       "      <th></th>\n",
       "      <th>name</th>\n",
       "      <th>Gender</th>\n",
       "      <th>Eye color</th>\n",
       "      <th>Race</th>\n",
       "      <th>Hair color</th>\n",
       "      <th>Height</th>\n",
       "      <th>Publisher</th>\n",
       "      <th>Skin color</th>\n",
       "      <th>Alignment</th>\n",
       "      <th>Weight</th>\n",
       "      <th>...</th>\n",
       "      <th>Reality Warping</th>\n",
       "      <th>Odin Force</th>\n",
       "      <th>Symbiote Costume</th>\n",
       "      <th>Speed Force</th>\n",
       "      <th>Phoenix Force</th>\n",
       "      <th>Molecular Dissipation</th>\n",
       "      <th>Vision - Cryo</th>\n",
       "      <th>Omnipresent</th>\n",
       "      <th>Omniscient</th>\n",
       "      <th>Gender_number</th>\n",
       "    </tr>\n",
       "  </thead>\n",
       "  <tbody>\n",
       "  </tbody>\n",
       "</table>\n",
       "<p>0 rows × 179 columns</p>\n",
       "</div>"
      ],
      "text/plain": [
       "Empty DataFrame\n",
       "Columns: [name, Gender, Eye color, Race, Hair color, Height, Publisher, Skin color, Alignment, Weight, hero_names-powers_df, Agility, Accelerated Healing, Lantern Power Ring, Dimensional Awareness, Cold Resistance, Durability, Stealth, Energy Absorption, Flight, Danger Sense, Underwater breathing, Marksmanship, Weapons Master, Power Augmentation, Animal Attributes, Longevity, Intelligence, Super Strength, Cryokinesis, Telepathy, Energy Armor, Energy Blasts, Duplication, Size Changing, Density Control, Stamina, Astral Travel, Audio Control, Dexterity, Omnitrix, Super Speed, Possession, Animal Oriented Powers, Weapon-based Powers, Electrokinesis, Darkforce Manipulation, Death Touch, Teleportation, Enhanced Senses, Telekinesis, Energy Beams, Magic, Hyperkinesis, Jump, Clairvoyance, Dimensional Travel, Power Sense, Shapeshifting, Peak Human Condition, Immortality, Camouflage, Element Control, Phasing, Astral Projection, Electrical Transport, Fire Control, Projection, Summoning, Enhanced Memory, Reflexes, Invulnerability, Energy Constructs, Force Fields, Self-Sustenance, Anti-Gravity, Empathy, Power Nullifier, Radiation Control, Psionic Powers, Elasticity, Substance Secretion, Elemental Transmogrification, Technopath/Cyberpath, Photographic Reflexes, Seismic Power, Animation, Precognition, Mind Control, Fire Resistance, Power Absorption, Enhanced Hearing, Nova Force, Insanity, Hypnokinesis, Animal Control, Natural Armor, Intangibility, Enhanced Sight, Molecular Manipulation, ...]\n",
       "Index: []\n",
       "\n",
       "[0 rows x 179 columns]"
      ]
     },
     "execution_count": 105,
     "metadata": {},
     "output_type": "execute_result"
    }
   ],
   "source": [
    "race_colors.loc[(race_colors[\"Race\"]=='-')|(race_colors[\"Skin color\"]=='-')]"
   ]
  },
  {
   "cell_type": "code",
   "execution_count": 107,
   "metadata": {},
   "outputs": [
    {
     "data": {
      "text/plain": [
       "Race                Skin color    \n",
       "Alien               gold              1\n",
       "                    green             1\n",
       "                    grey              1\n",
       "                    silver            1\n",
       "Android             gray              1\n",
       "                    green             1\n",
       "                    silver            1\n",
       "Bizarro             white             1\n",
       "Bolovaxian          pink              1\n",
       "Cyborg              silver            1\n",
       "Czarnian            blue-white        1\n",
       "Dathomirian Zabrak  red / black       1\n",
       "Demon               white             1\n",
       "                    yellow            1\n",
       "Eternal             purple            1\n",
       "God / Eternal       green             1\n",
       "                    white             1\n",
       "Gungan              orange / white    1\n",
       "Human               green             2\n",
       "                    white             2\n",
       "                    blue              1\n",
       "                    purple            1\n",
       "                    red               1\n",
       "Human / Altered     green             1\n",
       "Human / Cosmic      blue              1\n",
       "                    gold              1\n",
       "Human / Radiation   green             1\n",
       "                    red               1\n",
       "                    silver            1\n",
       "Human-Kree          green             1\n",
       "Icthyo Sapien       blue              1\n",
       "Kakarantharaian     green             1\n",
       "Korugaran           red               1\n",
       "Luphomoid           blue              1\n",
       "Martian             green             1\n",
       "Metahuman           green             1\n",
       "Mutant              blue              4\n",
       "                    green             4\n",
       "                    grey              1\n",
       "                    pink              1\n",
       "                    red               1\n",
       "                    yellow            1\n",
       "New God             grey              1\n",
       "                    white             1\n",
       "Neyaphem            red               1\n",
       "Rodian              green             1\n",
       "Strontian           purple            1\n",
       "Talokite            blue              1\n",
       "Tamaranean          orange            1\n",
       "Ungaran             red               1\n",
       "Xenomorph XX121     black             1\n",
       "Zen-Whoberian       green             1\n",
       "Name: Skin color, dtype: int64"
      ]
     },
     "execution_count": 107,
     "metadata": {},
     "output_type": "execute_result"
    }
   ],
   "source": [
    "race_colors.groupby(\"Race\")[\"Skin color\"].value_counts()"
   ]
  },
  {
   "cell_type": "markdown",
   "metadata": {},
   "source": [
    "I'm noticing that there's not a lot of data for each alien race.  Most of them only have one or two different representatives and a lot of races only have one datapoint total.  So, I'm going to flip the question: if we have a being that's a certain color, what race might they be?"
   ]
  },
  {
   "cell_type": "code",
   "execution_count": 108,
   "metadata": {
    "scrolled": false
   },
   "outputs": [
    {
     "data": {
      "text/plain": [
       "Skin color      Race              \n",
       "black           Xenomorph XX121       1\n",
       "blue            Mutant                4\n",
       "                Human                 1\n",
       "                Human / Cosmic        1\n",
       "                Icthyo Sapien         1\n",
       "                Luphomoid             1\n",
       "                Talokite              1\n",
       "blue-white      Czarnian              1\n",
       "gold            Alien                 1\n",
       "                Human / Cosmic        1\n",
       "gray            Android               1\n",
       "green           Mutant                4\n",
       "                Human                 2\n",
       "                Alien                 1\n",
       "                Android               1\n",
       "                God / Eternal         1\n",
       "                Human / Altered       1\n",
       "                Human / Radiation     1\n",
       "                Human-Kree            1\n",
       "                Kakarantharaian       1\n",
       "                Martian               1\n",
       "                Metahuman             1\n",
       "                Rodian                1\n",
       "                Zen-Whoberian         1\n",
       "grey            Alien                 1\n",
       "                Mutant                1\n",
       "                New God               1\n",
       "orange          Tamaranean            1\n",
       "orange / white  Gungan                1\n",
       "pink            Bolovaxian            1\n",
       "                Mutant                1\n",
       "purple          Eternal               1\n",
       "                Human                 1\n",
       "                Strontian             1\n",
       "red             Human                 1\n",
       "                Human / Radiation     1\n",
       "                Korugaran             1\n",
       "                Mutant                1\n",
       "                Neyaphem              1\n",
       "                Ungaran               1\n",
       "red / black     Dathomirian Zabrak    1\n",
       "silver          Alien                 1\n",
       "                Android               1\n",
       "                Cyborg                1\n",
       "                Human / Radiation     1\n",
       "white           Human                 2\n",
       "                Bizarro               1\n",
       "                Demon                 1\n",
       "                God / Eternal         1\n",
       "                New God               1\n",
       "yellow          Demon                 1\n",
       "                Mutant                1\n",
       "Name: Race, dtype: int64"
      ]
     },
     "execution_count": 108,
     "metadata": {},
     "output_type": "execute_result"
    }
   ],
   "source": [
    "race_colors.groupby(\"Skin color\")[\"Race\"].value_counts()"
   ]
  },
  {
   "cell_type": "markdown",
   "metadata": {},
   "source": [
    "Again, not very detailed results.  There's a hugely obvious problem, too.  If a being has black skin, then there's a 100% likelihood that the being is a Xenomorph, according to the dataset.  However, that's problematic.  Luke Cage is black and definitely not a Xenomorph. But does Luke Cage actually have black skin? Or should he be listed as brown?  Leaving him out makes it look like humans are white.  (But even \"white\" humans aren't really white, not in the same way that Gods or Demons might be white.)\n",
    "\n",
    "Anyway, we just don't have a big enough dataset to make meaningful conclusions about colors and races.  We might be able to make some conclusions about social justice issues though."
   ]
  },
  {
   "cell_type": "code",
   "execution_count": 115,
   "metadata": {},
   "outputs": [
    {
     "data": {
      "text/html": [
       "<div>\n",
       "<style scoped>\n",
       "    .dataframe tbody tr th:only-of-type {\n",
       "        vertical-align: middle;\n",
       "    }\n",
       "\n",
       "    .dataframe tbody tr th {\n",
       "        vertical-align: top;\n",
       "    }\n",
       "\n",
       "    .dataframe thead th {\n",
       "        text-align: right;\n",
       "    }\n",
       "</style>\n",
       "<table border=\"1\" class=\"dataframe\">\n",
       "  <thead>\n",
       "    <tr style=\"text-align: right;\">\n",
       "      <th></th>\n",
       "      <th>hero_names</th>\n",
       "      <th>Gender</th>\n",
       "      <th>Eye color</th>\n",
       "      <th>Race</th>\n",
       "      <th>Hair color</th>\n",
       "      <th>Height</th>\n",
       "      <th>Publisher</th>\n",
       "      <th>Skin color</th>\n",
       "      <th>Alignment</th>\n",
       "      <th>Weight</th>\n",
       "    </tr>\n",
       "  </thead>\n",
       "  <tbody>\n",
       "    <tr>\n",
       "      <th>416</th>\n",
       "      <td>Luke Cage</td>\n",
       "      <td>Male</td>\n",
       "      <td>brown</td>\n",
       "      <td>Human</td>\n",
       "      <td>Black</td>\n",
       "      <td>198.0</td>\n",
       "      <td>Marvel Comics</td>\n",
       "      <td>-</td>\n",
       "      <td>good</td>\n",
       "      <td>191.0</td>\n",
       "    </tr>\n",
       "  </tbody>\n",
       "</table>\n",
       "</div>"
      ],
      "text/plain": [
       "    hero_names Gender Eye color   Race Hair color  Height      Publisher  \\\n",
       "416  Luke Cage   Male     brown  Human      Black   198.0  Marvel Comics   \n",
       "\n",
       "    Skin color Alignment  Weight  \n",
       "416          -      good   191.0  "
      ]
     },
     "execution_count": 115,
     "metadata": {},
     "output_type": "execute_result"
    }
   ],
   "source": [
    "heroes_df.loc[heroes_df['hero_names']==\"Luke Cage\"]"
   ]
  },
  {
   "cell_type": "markdown",
   "metadata": {},
   "source": [
    "Going back to the original file, it looks like Luke Cage was included but his skin color was missing and so his data was excluded from the analysis. (Just wanted to check.)"
   ]
  },
  {
   "cell_type": "markdown",
   "metadata": {},
   "source": [
    "## Summary\n",
    "\n",
    "In this lab, we demonstrated our mastery of:\n",
    "* Using all of our Pandas knowledge to date to clean the dataset and deal with null values\n",
    "* Using Queries and aggregations to group the data into interesting subsets as needed\n",
    "* Using descriptive statistics and data visualization to find answers to questions we may have about the data"
   ]
  }
 ],
 "metadata": {
  "kernelspec": {
   "display_name": "Python 3",
   "language": "python",
   "name": "python3"
  },
  "language_info": {
   "codemirror_mode": {
    "name": "ipython",
    "version": 3
   },
   "file_extension": ".py",
   "mimetype": "text/x-python",
   "name": "python",
   "nbconvert_exporter": "python",
   "pygments_lexer": "ipython3",
   "version": "3.7.3"
  }
 },
 "nbformat": 4,
 "nbformat_minor": 2
}
